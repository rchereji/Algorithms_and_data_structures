{
 "cells": [
  {
   "cell_type": "markdown",
   "metadata": {},
   "source": [
    "### Get product of all other elements\n",
    "Given an array of integers, return a new array such that each element at index *i* of the new array is the product of all the numbers in the original array except the one at _i_. Do not use division."
   ]
  },
  {
   "cell_type": "code",
   "execution_count": 1,
   "metadata": {},
   "outputs": [],
   "source": [
    "def products(arr):\n",
    "    '''\n",
    "    P[i] = L[i] * R[i],\n",
    "    L[i] = product of the numbers to the left of i\n",
    "    R[i] = product of the numbers to the right of i\n",
    "    '''\n",
    "    N = len(arr)\n",
    "    \n",
    "    L = [1]*N\n",
    "    for i in range(N-1):\n",
    "        L[i+1] = L[i] * arr[i]\n",
    "    \n",
    "    R = [1]*N\n",
    "    for i in range(N-1, 0, -1):\n",
    "        R[i-1] = R[i] * arr[i]\n",
    "      \n",
    "    result = [1]*N\n",
    "    for i in range(N):\n",
    "        result[i] = L[i] * R[i]\n",
    "        \n",
    "    return result"
   ]
  },
  {
   "cell_type": "code",
   "execution_count": 2,
   "metadata": {},
   "outputs": [
    {
     "data": {
      "text/plain": [
       "[6, 3, 6, 2, 6]"
      ]
     },
     "execution_count": 2,
     "metadata": {},
     "output_type": "execute_result"
    }
   ],
   "source": [
    "products([1,2,1,3,1])"
   ]
  },
  {
   "cell_type": "code",
   "execution_count": 3,
   "metadata": {},
   "outputs": [
    {
     "data": {
      "text/plain": [
       "[0, 0, 6, 0, 0]"
      ]
     },
     "execution_count": 3,
     "metadata": {},
     "output_type": "execute_result"
    }
   ],
   "source": [
    "products([1,2,0,3,1])"
   ]
  },
  {
   "cell_type": "code",
   "execution_count": null,
   "metadata": {},
   "outputs": [],
   "source": []
  }
 ],
 "metadata": {
  "kernelspec": {
   "display_name": "Python 3",
   "language": "python",
   "name": "python3"
  },
  "language_info": {
   "codemirror_mode": {
    "name": "ipython",
    "version": 3
   },
   "file_extension": ".py",
   "mimetype": "text/x-python",
   "name": "python",
   "nbconvert_exporter": "python",
   "pygments_lexer": "ipython3",
   "version": "3.7.3"
  }
 },
 "nbformat": 4,
 "nbformat_minor": 2
}
