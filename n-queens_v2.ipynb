{
 "cells": [
  {
   "cell_type": "markdown",
   "metadata": {},
   "source": [
    "### N-queens\n",
    "Place N queens on an NxN chessboard such that no two queens attack each other.  \n",
    "\n",
    "We will place N queens on N different columns and we will output the solutions as a an array of N numbers, corresponding to the rows where we placed the queens."
   ]
  },
  {
   "cell_type": "code",
   "execution_count": 1,
   "metadata": {},
   "outputs": [],
   "source": [
    "def solve(N, board=[]):\n",
    "    '''\n",
    "    Solve the N-queens problem\n",
    "    N - number of queens / the dimension of the board is NxN\n",
    "    '''\n",
    "    \n",
    "    global tot_num_solutions\n",
    "    \n",
    "    if len(board) == N:  # if a solution has been found\n",
    "        if tot_num_solutions == 0:\n",
    "            print('Solutions:')\n",
    "            \n",
    "        print(board)\n",
    "        tot_num_solutions += 1\n",
    "        \n",
    "    else:\n",
    "        # We need to put the next queen\n",
    "        # Possible row positions: 0, 1, ..., N-1\n",
    "        for row in range(N):\n",
    "            board.append(row)\n",
    "            # If this position is valid, go forward and try to put the next queen\n",
    "            if is_valid(board):\n",
    "                solve(N, board)\n",
    "            \n",
    "            # Remove the last queen and continue the search\n",
    "            board.pop()\n",
    "        \n",
    "\n",
    "def is_valid(board):\n",
    "    '''\n",
    "    Check if the last queen is atacked by other queens\n",
    "    '''\n",
    "    \n",
    "    last_col = len(board)-1\n",
    "    last_row = board[-1]\n",
    "    \n",
    "    for c,r in enumerate(board[:-1]):\n",
    "        if last_row == r:  # queens attack along a row\n",
    "            return False\n",
    "        \n",
    "        if abs(last_row-r) == abs(last_col-c): # queens attack along a diagonal\n",
    "            return False\n",
    "        \n",
    "    # If no queens are attacking the last queen, then\n",
    "    return True"
   ]
  },
  {
   "cell_type": "code",
   "execution_count": 2,
   "metadata": {},
   "outputs": [
    {
     "name": "stdout",
     "output_type": "stream",
     "text": [
      "Solutions:\n",
      "[1, 3, 0, 2]\n",
      "[2, 0, 3, 1]\n",
      "\n",
      "Board size: 4x4\n",
      "Total number of solutions: 2\n"
     ]
    }
   ],
   "source": [
    "N = 4\n",
    "tot_num_solutions = 0\n",
    "solve(N, [])\n",
    "print('\\nBoard size: {}x{}'.format(N,N))\n",
    "print('Total number of solutions: {}'.format(tot_num_solutions))"
   ]
  },
  {
   "cell_type": "code",
   "execution_count": 3,
   "metadata": {},
   "outputs": [
    {
     "name": "stdout",
     "output_type": "stream",
     "text": [
      "\n",
      "Board size: 3x3\n",
      "Total number of solutions: 0\n"
     ]
    }
   ],
   "source": [
    "N = 3\n",
    "tot_num_solutions = 0\n",
    "solve(N, [])\n",
    "print('\\nBoard size: {}x{}'.format(N,N))\n",
    "print('Total number of solutions: {}'.format(tot_num_solutions))"
   ]
  },
  {
   "cell_type": "code",
   "execution_count": 4,
   "metadata": {},
   "outputs": [
    {
     "name": "stdout",
     "output_type": "stream",
     "text": [
      "Solutions:\n",
      "[0, 4, 7, 5, 2, 6, 1, 3]\n",
      "[0, 5, 7, 2, 6, 3, 1, 4]\n",
      "[0, 6, 3, 5, 7, 1, 4, 2]\n",
      "[0, 6, 4, 7, 1, 3, 5, 2]\n",
      "[1, 3, 5, 7, 2, 0, 6, 4]\n",
      "[1, 4, 6, 0, 2, 7, 5, 3]\n",
      "[1, 4, 6, 3, 0, 7, 5, 2]\n",
      "[1, 5, 0, 6, 3, 7, 2, 4]\n",
      "[1, 5, 7, 2, 0, 3, 6, 4]\n",
      "[1, 6, 2, 5, 7, 4, 0, 3]\n",
      "[1, 6, 4, 7, 0, 3, 5, 2]\n",
      "[1, 7, 5, 0, 2, 4, 6, 3]\n",
      "[2, 0, 6, 4, 7, 1, 3, 5]\n",
      "[2, 4, 1, 7, 0, 6, 3, 5]\n",
      "[2, 4, 1, 7, 5, 3, 6, 0]\n",
      "[2, 4, 6, 0, 3, 1, 7, 5]\n",
      "[2, 4, 7, 3, 0, 6, 1, 5]\n",
      "[2, 5, 1, 4, 7, 0, 6, 3]\n",
      "[2, 5, 1, 6, 0, 3, 7, 4]\n",
      "[2, 5, 1, 6, 4, 0, 7, 3]\n",
      "[2, 5, 3, 0, 7, 4, 6, 1]\n",
      "[2, 5, 3, 1, 7, 4, 6, 0]\n",
      "[2, 5, 7, 0, 3, 6, 4, 1]\n",
      "[2, 5, 7, 0, 4, 6, 1, 3]\n",
      "[2, 5, 7, 1, 3, 0, 6, 4]\n",
      "[2, 6, 1, 7, 4, 0, 3, 5]\n",
      "[2, 6, 1, 7, 5, 3, 0, 4]\n",
      "[2, 7, 3, 6, 0, 5, 1, 4]\n",
      "[3, 0, 4, 7, 1, 6, 2, 5]\n",
      "[3, 0, 4, 7, 5, 2, 6, 1]\n",
      "[3, 1, 4, 7, 5, 0, 2, 6]\n",
      "[3, 1, 6, 2, 5, 7, 0, 4]\n",
      "[3, 1, 6, 2, 5, 7, 4, 0]\n",
      "[3, 1, 6, 4, 0, 7, 5, 2]\n",
      "[3, 1, 7, 4, 6, 0, 2, 5]\n",
      "[3, 1, 7, 5, 0, 2, 4, 6]\n",
      "[3, 5, 0, 4, 1, 7, 2, 6]\n",
      "[3, 5, 7, 1, 6, 0, 2, 4]\n",
      "[3, 5, 7, 2, 0, 6, 4, 1]\n",
      "[3, 6, 0, 7, 4, 1, 5, 2]\n",
      "[3, 6, 2, 7, 1, 4, 0, 5]\n",
      "[3, 6, 4, 1, 5, 0, 2, 7]\n",
      "[3, 6, 4, 2, 0, 5, 7, 1]\n",
      "[3, 7, 0, 2, 5, 1, 6, 4]\n",
      "[3, 7, 0, 4, 6, 1, 5, 2]\n",
      "[3, 7, 4, 2, 0, 6, 1, 5]\n",
      "[4, 0, 3, 5, 7, 1, 6, 2]\n",
      "[4, 0, 7, 3, 1, 6, 2, 5]\n",
      "[4, 0, 7, 5, 2, 6, 1, 3]\n",
      "[4, 1, 3, 5, 7, 2, 0, 6]\n",
      "[4, 1, 3, 6, 2, 7, 5, 0]\n",
      "[4, 1, 5, 0, 6, 3, 7, 2]\n",
      "[4, 1, 7, 0, 3, 6, 2, 5]\n",
      "[4, 2, 0, 5, 7, 1, 3, 6]\n",
      "[4, 2, 0, 6, 1, 7, 5, 3]\n",
      "[4, 2, 7, 3, 6, 0, 5, 1]\n",
      "[4, 6, 0, 2, 7, 5, 3, 1]\n",
      "[4, 6, 0, 3, 1, 7, 5, 2]\n",
      "[4, 6, 1, 3, 7, 0, 2, 5]\n",
      "[4, 6, 1, 5, 2, 0, 3, 7]\n",
      "[4, 6, 1, 5, 2, 0, 7, 3]\n",
      "[4, 6, 3, 0, 2, 7, 5, 1]\n",
      "[4, 7, 3, 0, 2, 5, 1, 6]\n",
      "[4, 7, 3, 0, 6, 1, 5, 2]\n",
      "[5, 0, 4, 1, 7, 2, 6, 3]\n",
      "[5, 1, 6, 0, 2, 4, 7, 3]\n",
      "[5, 1, 6, 0, 3, 7, 4, 2]\n",
      "[5, 2, 0, 6, 4, 7, 1, 3]\n",
      "[5, 2, 0, 7, 3, 1, 6, 4]\n",
      "[5, 2, 0, 7, 4, 1, 3, 6]\n",
      "[5, 2, 4, 6, 0, 3, 1, 7]\n",
      "[5, 2, 4, 7, 0, 3, 1, 6]\n",
      "[5, 2, 6, 1, 3, 7, 0, 4]\n",
      "[5, 2, 6, 1, 7, 4, 0, 3]\n",
      "[5, 2, 6, 3, 0, 7, 1, 4]\n",
      "[5, 3, 0, 4, 7, 1, 6, 2]\n",
      "[5, 3, 1, 7, 4, 6, 0, 2]\n",
      "[5, 3, 6, 0, 2, 4, 1, 7]\n",
      "[5, 3, 6, 0, 7, 1, 4, 2]\n",
      "[5, 7, 1, 3, 0, 6, 4, 2]\n",
      "[6, 0, 2, 7, 5, 3, 1, 4]\n",
      "[6, 1, 3, 0, 7, 4, 2, 5]\n",
      "[6, 1, 5, 2, 0, 3, 7, 4]\n",
      "[6, 2, 0, 5, 7, 4, 1, 3]\n",
      "[6, 2, 7, 1, 4, 0, 5, 3]\n",
      "[6, 3, 1, 4, 7, 0, 2, 5]\n",
      "[6, 3, 1, 7, 5, 0, 2, 4]\n",
      "[6, 4, 2, 0, 5, 7, 1, 3]\n",
      "[7, 1, 3, 0, 6, 4, 2, 5]\n",
      "[7, 1, 4, 2, 0, 6, 3, 5]\n",
      "[7, 2, 0, 5, 1, 4, 6, 3]\n",
      "[7, 3, 0, 2, 5, 1, 6, 4]\n",
      "\n",
      "Board size: 8x8\n",
      "Total number of solutions: 92\n"
     ]
    }
   ],
   "source": [
    "N = 8\n",
    "tot_num_solutions = 0\n",
    "solve(N, [])\n",
    "print('\\nBoard size: {}x{}'.format(N,N))\n",
    "print('Total number of solutions: {}'.format(tot_num_solutions))"
   ]
  },
  {
   "cell_type": "code",
   "execution_count": null,
   "metadata": {},
   "outputs": [],
   "source": []
  }
 ],
 "metadata": {
  "kernelspec": {
   "display_name": "Python 3",
   "language": "python",
   "name": "python3"
  },
  "language_info": {
   "codemirror_mode": {
    "name": "ipython",
    "version": 3
   },
   "file_extension": ".py",
   "mimetype": "text/x-python",
   "name": "python",
   "nbconvert_exporter": "python",
   "pygments_lexer": "ipython3",
   "version": "3.7.3"
  }
 },
 "nbformat": 4,
 "nbformat_minor": 2
}
