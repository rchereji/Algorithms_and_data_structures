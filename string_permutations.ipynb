{
 "cells": [
  {
   "cell_type": "markdown",
   "metadata": {},
   "source": [
    "### String permutations\n",
    "\n",
    "Given a string, write a function that uses recursion to output a list of all the possible permutations of that string.\n",
    "\n",
    "For example, given s='abc' the function should return ['abc', 'acb', 'bac', 'bca', 'cab', 'cba']\n",
    "\n",
    "*Note: If a character is repeated, treat each occurence as distinct, for example an input of 'xxx' would return a list with 6 \"versions\" of 'xxx'*"
   ]
  },
  {
   "cell_type": "code",
   "execution_count": 1,
   "metadata": {},
   "outputs": [],
   "source": [
    "def permutations_1(chars_to_permute, permuted_chars=''):\n",
    "    '''\n",
    "    This function just prints all the permutations on separate lines\n",
    "    '''\n",
    "    if len(chars_to_permute) <= 1:\n",
    "        print(permuted_chars + chars_to_permute)\n",
    "        \n",
    "    else:\n",
    "        for i,char in enumerate(chars_to_permute):\n",
    "            permutations_1(chars_to_permute[:i] + chars_to_permute[i+1:], \n",
    "                           permuted_chars + char)"
   ]
  },
  {
   "cell_type": "code",
   "execution_count": 2,
   "metadata": {},
   "outputs": [
    {
     "name": "stdout",
     "output_type": "stream",
     "text": [
      "abc\n",
      "acb\n",
      "bac\n",
      "bca\n",
      "cab\n",
      "cba\n"
     ]
    }
   ],
   "source": [
    "permutations_1('abc')"
   ]
  },
  {
   "cell_type": "code",
   "execution_count": 3,
   "metadata": {},
   "outputs": [],
   "source": [
    "def permutations_2(chars_to_permute, permuted_chars='', result=[]):\n",
    "    '''\n",
    "    This function returns a list of all permutations\n",
    "    '''\n",
    "    if len(chars_to_permute) <= 1:\n",
    "        result.append(permuted_chars + chars_to_permute)\n",
    "        \n",
    "    else:\n",
    "        for i, char in enumerate(chars_to_permute):\n",
    "            permutations_2(chars_to_permute[:i] + chars_to_permute[i+1:], \n",
    "                           permuted_chars + char, result)\n",
    "            \n",
    "    return result"
   ]
  },
  {
   "cell_type": "code",
   "execution_count": 4,
   "metadata": {},
   "outputs": [
    {
     "data": {
      "text/plain": [
       "['abc', 'acb', 'bac', 'bca', 'cab', 'cba']"
      ]
     },
     "execution_count": 4,
     "metadata": {},
     "output_type": "execute_result"
    }
   ],
   "source": [
    "permutations_2('abc')"
   ]
  },
  {
   "cell_type": "code",
   "execution_count": null,
   "metadata": {},
   "outputs": [],
   "source": []
  }
 ],
 "metadata": {
  "kernelspec": {
   "display_name": "Python 3",
   "language": "python",
   "name": "python3"
  },
  "language_info": {
   "codemirror_mode": {
    "name": "ipython",
    "version": 3
   },
   "file_extension": ".py",
   "mimetype": "text/x-python",
   "name": "python",
   "nbconvert_exporter": "python",
   "pygments_lexer": "ipython3",
   "version": "3.7.3"
  }
 },
 "nbformat": 4,
 "nbformat_minor": 2
}
