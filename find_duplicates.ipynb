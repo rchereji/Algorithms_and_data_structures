{
 "cells": [
  {
   "cell_type": "markdown",
   "metadata": {},
   "source": [
    "### Find duplicates \n",
    "Find duplicates in a one-dimensional array of integers in O(N) running time where the integer values are smaller than the length of the array!"
   ]
  },
  {
   "cell_type": "code",
   "execution_count": 1,
   "metadata": {},
   "outputs": [],
   "source": [
    "def find_duplicates(nums):\n",
    "    # create a dictionary with the counts\n",
    "    counts = {}\n",
    "    \n",
    "    for i in range(len(nums)):\n",
    "        N = nums[i]\n",
    "        \n",
    "        if N not in counts:\n",
    "            counts[N] = 1\n",
    "        else:\n",
    "            counts[N] += 1\n",
    "            if counts[N] == 2:\n",
    "                print(N)"
   ]
  },
  {
   "cell_type": "code",
   "execution_count": 2,
   "metadata": {},
   "outputs": [
    {
     "name": "stdout",
     "output_type": "stream",
     "text": [
      "1\n",
      "2\n"
     ]
    }
   ],
   "source": [
    "nums = [1, 2, 3, 1, 2, 1, 5, 6, 7, 1]\n",
    "find_duplicates(nums)"
   ]
  },
  {
   "cell_type": "markdown",
   "metadata": {},
   "source": [
    "The previous algorithm uses extra memory to construct the dictionary of counts. For positive integers, we can do better, using an in-place algorithm, as follows.\n",
    "\n",
    "Consider all items in the list `nums`.\n",
    "\n",
    "For each element `nums[i]`, check the sign of `nums[abs(nums[i])]`. If the sign is positive, then flip the sign of `nums[abs(nums[i])]`, otherwise, the sign was already flipped, which means that `nums[i]` is a dupplicate."
   ]
  },
  {
   "cell_type": "code",
   "execution_count": 3,
   "metadata": {},
   "outputs": [],
   "source": [
    "def find_duplicates_2(nums):\n",
    "    duplicates = set()\n",
    "    \n",
    "    for N in nums:\n",
    "        if nums[abs(N)] > 0:\n",
    "            nums[abs(N)] = - nums[abs(N)]\n",
    "        else:\n",
    "            duplicates.add(abs(N))\n",
    "    \n",
    "    print('Duplicates:')\n",
    "    print(duplicates)"
   ]
  },
  {
   "cell_type": "code",
   "execution_count": 4,
   "metadata": {},
   "outputs": [
    {
     "name": "stdout",
     "output_type": "stream",
     "text": [
      "Duplicates:\n",
      "{1, 2}\n"
     ]
    }
   ],
   "source": [
    "nums = [1, 2, 3, 1, 2, 1, 5, 6, 7, 1]\n",
    "find_duplicates_2(nums)"
   ]
  },
  {
   "cell_type": "code",
   "execution_count": null,
   "metadata": {},
   "outputs": [],
   "source": []
  }
 ],
 "metadata": {
  "kernelspec": {
   "display_name": "Python 3",
   "language": "python",
   "name": "python3"
  },
  "language_info": {
   "codemirror_mode": {
    "name": "ipython",
    "version": 3
   },
   "file_extension": ".py",
   "mimetype": "text/x-python",
   "name": "python",
   "nbconvert_exporter": "python",
   "pygments_lexer": "ipython3",
   "version": "3.7.3"
  }
 },
 "nbformat": 4,
 "nbformat_minor": 2
}
