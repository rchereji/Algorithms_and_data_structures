{
 "cells": [
  {
   "cell_type": "markdown",
   "metadata": {},
   "source": [
    "### N-queens\n",
    "Place N queens on an NxN chessboard such that no two queens attack each other."
   ]
  },
  {
   "cell_type": "code",
   "execution_count": 1,
   "metadata": {},
   "outputs": [],
   "source": [
    "def solve(board, col, printSol=False):\n",
    "    '''\n",
    "    Solve the N-queens problem\n",
    "    '''\n",
    "    global num_solutions\n",
    "    N = len(board)  # no. of rows (and columns)\n",
    "    \n",
    "    # Keep track of the total number of solutions\n",
    "    if col == 0:    # initialize num_solutions = 0 at the first call, when col=0\n",
    "        num_solutions = 0\n",
    "        \n",
    "    # We need to put a queen on column col\n",
    "    # Possible row positions: 0, 1, ..., N-1\n",
    "    for row in range(N):\n",
    "        if is_safe(board, row, col):\n",
    "            board[row][col] = 1\n",
    "            if col == N-1:  # a solution has been found\n",
    "                if printSol:\n",
    "                    print_solution(board)\n",
    "                num_solutions += 1\n",
    "                \n",
    "                # Remove queen\n",
    "                board[row][col] = 0\n",
    "                return\n",
    "            \n",
    "            # Go to the next column; place the next queen\n",
    "            solve(board, col+1, printSol)\n",
    "            \n",
    "            # Remove the queen from row 'row' to try the next option\n",
    "            board[row][col] = 0\n",
    "            \n",
    "    if col == 0: # after all the rows have been checked\n",
    "        print('Board size: {}x{}'.format(N,N))\n",
    "        print('Total number of solutions: {}'.format(num_solutions))\n",
    "        \n",
    "\n",
    "def is_safe(board, row, col):\n",
    "    '''\n",
    "    Check if the queens attack each other\n",
    "    '''\n",
    "    N = len(board)  # no. of rows (and columns)\n",
    "    \n",
    "    # Check for another queen on the same row\n",
    "    for i in range(col):\n",
    "        if board[row][i] == 1:\n",
    "            return False\n",
    "        \n",
    "    # Check for another queen attacking on the diagonal\n",
    "    for i,j in zip(range(row, -1, -1),\n",
    "                   range(col, -1, -1)):\n",
    "        if board[i][j] == 1:\n",
    "            return False\n",
    "        \n",
    "    for i,j in zip(range(row, N, +1),\n",
    "                   range(col, -1, -1)):\n",
    "        if board[i][j] == 1:\n",
    "            return False\n",
    "    \n",
    "    # If no queens are attacking this position, then\n",
    "    return True\n",
    "\n",
    "\n",
    "def print_solution(board):\n",
    "    '''\n",
    "    Print the solution board\n",
    "    '''\n",
    "    for row in board:\n",
    "        print(row)\n",
    "    print(' ')"
   ]
  },
  {
   "cell_type": "code",
   "execution_count": 2,
   "metadata": {},
   "outputs": [
    {
     "name": "stdout",
     "output_type": "stream",
     "text": [
      "[0, 0, 1, 0]\n",
      "[1, 0, 0, 0]\n",
      "[0, 0, 0, 1]\n",
      "[0, 1, 0, 0]\n",
      " \n",
      "[0, 1, 0, 0]\n",
      "[0, 0, 0, 1]\n",
      "[1, 0, 0, 0]\n",
      "[0, 0, 1, 0]\n",
      " \n",
      "Board size: 4x4\n",
      "Total number of solutions: 2\n"
     ]
    }
   ],
   "source": [
    "N = 4\n",
    "empty_board = [[0 for i in range(N)] for j in range(N)]\n",
    "solve(empty_board, 0, printSol=True)"
   ]
  },
  {
   "cell_type": "code",
   "execution_count": 3,
   "metadata": {},
   "outputs": [
    {
     "name": "stdout",
     "output_type": "stream",
     "text": [
      "Board size: 3x3\n",
      "Total number of solutions: 0\n"
     ]
    }
   ],
   "source": [
    "N = 3\n",
    "empty_board = [[0 for i in range(N)] for j in range(N)]\n",
    "solve(empty_board, 0, printSol=False)"
   ]
  },
  {
   "cell_type": "code",
   "execution_count": 4,
   "metadata": {},
   "outputs": [
    {
     "name": "stdout",
     "output_type": "stream",
     "text": [
      "Board size: 8x8\n",
      "Total number of solutions: 92\n"
     ]
    }
   ],
   "source": [
    "N = 8\n",
    "empty_board = [[0 for i in range(N)] for j in range(N)]\n",
    "solve(empty_board, 0, printSol=False)"
   ]
  },
  {
   "cell_type": "code",
   "execution_count": null,
   "metadata": {},
   "outputs": [],
   "source": []
  }
 ],
 "metadata": {
  "kernelspec": {
   "display_name": "Python 3",
   "language": "python",
   "name": "python3"
  },
  "language_info": {
   "codemirror_mode": {
    "name": "ipython",
    "version": 3
   },
   "file_extension": ".py",
   "mimetype": "text/x-python",
   "name": "python",
   "nbconvert_exporter": "python",
   "pygments_lexer": "ipython3",
   "version": "3.7.3"
  }
 },
 "nbformat": 4,
 "nbformat_minor": 2
}
