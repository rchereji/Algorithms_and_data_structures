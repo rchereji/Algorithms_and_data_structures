{
 "cells": [
  {
   "cell_type": "markdown",
   "metadata": {},
   "source": [
    "### Find array extremes efficiently\n",
    "Given an array of numbers of length n, find botht he minimum and the maximum using less than 2*(n-2) comparisons."
   ]
  },
  {
   "cell_type": "code",
   "execution_count": 1,
   "metadata": {},
   "outputs": [],
   "source": [
    "def min_and_max(arr):\n",
    "    if len(arr)==1:\n",
    "        return (arr[0], arr[0])\n",
    "    \n",
    "    if len(arr)==2:\n",
    "        if arr[0]<arr[1]:\n",
    "            return (arr[0], arr[1])\n",
    "        else:\n",
    "            return (arr[1], arr[0])\n",
    "        \n",
    "    # middle index\n",
    "    mid_idx = len(arr)//2\n",
    "    (left_min, left_max) = min_and_max(arr[:mid_idx])\n",
    "    (right_min, right_max) = min_and_max(arr[mid_idx:])\n",
    "    \n",
    "    return (min(left_min, right_min), max(left_max, right_max))"
   ]
  },
  {
   "cell_type": "code",
   "execution_count": 2,
   "metadata": {},
   "outputs": [
    {
     "data": {
      "text/plain": [
       "(0, 99)"
      ]
     },
     "execution_count": 2,
     "metadata": {},
     "output_type": "execute_result"
    }
   ],
   "source": [
    "min_and_max(list(range(100)))"
   ]
  },
  {
   "cell_type": "code",
   "execution_count": null,
   "metadata": {},
   "outputs": [],
   "source": []
  }
 ],
 "metadata": {
  "kernelspec": {
   "display_name": "Python 3",
   "language": "python",
   "name": "python3"
  },
  "language_info": {
   "codemirror_mode": {
    "name": "ipython",
    "version": 3
   },
   "file_extension": ".py",
   "mimetype": "text/x-python",
   "name": "python",
   "nbconvert_exporter": "python",
   "pygments_lexer": "ipython3",
   "version": "3.7.3"
  }
 },
 "nbformat": 4,
 "nbformat_minor": 2
}
