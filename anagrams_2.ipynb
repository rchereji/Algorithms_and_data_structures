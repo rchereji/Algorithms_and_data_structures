{
 "cells": [
  {
   "cell_type": "markdown",
   "metadata": {},
   "source": [
    "### Find anagram indices\n",
    "Given a word w and a string s, find all indices in s, which are starting locations of anagrams of w. For example, given w is 'ab' and s is 'abxaba', return [0,3,4]. "
   ]
  },
  {
   "cell_type": "code",
   "execution_count": 1,
   "metadata": {},
   "outputs": [],
   "source": [
    "def check_anagrams(s, w):\n",
    "    \n",
    "    # remove spaces and transform to lowercased string \n",
    "    s = s.replace(' ', '').lower()\n",
    "    w = w.replace(' ', '').lower()\n",
    "    \n",
    "    # create a dictionary to count the letters in w\n",
    "    d_w = dict()\n",
    "    \n",
    "    for c in w:\n",
    "        if c in d_w:\n",
    "            d_w[c] += 1\n",
    "        else:\n",
    "            d_w[c] = 1\n",
    "            \n",
    "    # create a dictionary to count the letters in a substring \n",
    "    # of s with the same length as w\n",
    "    d_s = dict()\n",
    "\n",
    "    N = len(w)\n",
    "    for c in s[:N]:\n",
    "        if c in d_s:\n",
    "            d_s[c] += 1\n",
    "        else:\n",
    "            d_s[c] = 1\n",
    "            \n",
    "    result = []\n",
    "    \n",
    "    if d_w == d_s:\n",
    "        result.append(0)\n",
    "        \n",
    "    for i in range(len(s)-N):\n",
    "        # Remove s[i] from the dictionary\n",
    "        c = s[i]\n",
    "        d_s[c] -= 1\n",
    "        if d_s[c] == 0:\n",
    "            del d_s[c]\n",
    "        \n",
    "        # Add s[i+N] to the dictionary\n",
    "        c = s[i+N]\n",
    "        if c in d_s:\n",
    "            d_s[c] += 1\n",
    "        else:\n",
    "            d_s[c] = 1\n",
    "            \n",
    "        if d_w == d_s:\n",
    "            result.append(i+1)\n",
    "            \n",
    "    return result"
   ]
  },
  {
   "cell_type": "code",
   "execution_count": 2,
   "metadata": {},
   "outputs": [
    {
     "data": {
      "text/plain": [
       "[0, 3, 4]"
      ]
     },
     "execution_count": 2,
     "metadata": {},
     "output_type": "execute_result"
    }
   ],
   "source": [
    "check_anagrams('abxaba', 'ab')"
   ]
  },
  {
   "cell_type": "code",
   "execution_count": null,
   "metadata": {},
   "outputs": [],
   "source": []
  }
 ],
 "metadata": {
  "kernelspec": {
   "display_name": "Python 3",
   "language": "python",
   "name": "python3"
  },
  "language_info": {
   "codemirror_mode": {
    "name": "ipython",
    "version": 3
   },
   "file_extension": ".py",
   "mimetype": "text/x-python",
   "name": "python",
   "nbconvert_exporter": "python",
   "pygments_lexer": "ipython3",
   "version": "3.7.3"
  }
 },
 "nbformat": 4,
 "nbformat_minor": 2
}
