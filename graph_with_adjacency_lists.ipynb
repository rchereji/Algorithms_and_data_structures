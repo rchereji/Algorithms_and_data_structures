{
 "cells": [
  {
   "cell_type": "markdown",
   "metadata": {},
   "source": [
    "### Graph\n",
    "Implementation of a Graph class using adjacency lists in order to keep track of the edges."
   ]
  },
  {
   "cell_type": "code",
   "execution_count": 1,
   "metadata": {},
   "outputs": [],
   "source": [
    "# Create a class for the vertex/node\n",
    "class Vertex:\n",
    "    def __init__(self,key):\n",
    "        self.id = key\n",
    "        self.connectedTo = {}\n",
    "        \n",
    "    def addNeighbor(self, neighbor, weight=0):\n",
    "        self.connectedTo[neighbor] = weight\n",
    "        \n",
    "    def getConnections(self):\n",
    "        return self.connectedTo.keys()\n",
    "    \n",
    "    def getId(self):\n",
    "        return self.id\n",
    "    \n",
    "    def getWight(self, neighbor):\n",
    "        return self.connectedTo[neighbor]\n",
    "    \n",
    "    def __str__(self):\n",
    "        return str(self.id) + ' connected to: ' + str([x.id for x in self.connectedTo])"
   ]
  },
  {
   "cell_type": "code",
   "execution_count": 2,
   "metadata": {},
   "outputs": [],
   "source": [
    "# Create a class Graph that uses the Vertex class defined before\n",
    "class Graph:\n",
    "    def __init__(self):\n",
    "        self.vertList = {}\n",
    "        self.numVertices = 0\n",
    "    \n",
    "    def addVertex(self, key):\n",
    "        self.numVertices += 1\n",
    "        newVertex = Vertex(key)\n",
    "        self.vertList[key] = newVertex\n",
    "\n",
    "    def getVertex(self, key):\n",
    "        if key in self.vertList:\n",
    "            return self.vertList[key]\n",
    "        else:\n",
    "            return None\n",
    "    \n",
    "    def addEdge(self, fromVert, toVert, weight=0):\n",
    "        if fromVert not in self.vertList:\n",
    "            self.addVertex(fromVert)\n",
    "        \n",
    "        if toVert not in self.vertList:\n",
    "            self.addVertex(toVert)\n",
    "        \n",
    "        self.vertList[fromVert].addNeighbor(self.vertList[toVert], weight)\n",
    "    \n",
    "    def getVertices(self):\n",
    "        return self.vertList.keys()\n",
    "    \n",
    "    def __iter__(self):\n",
    "        return iter(self.vertList.values()) # iterable object consisting of all vertices\n",
    "    \n",
    "    def __contains__(self, key):\n",
    "        return key in self.vertList"
   ]
  },
  {
   "cell_type": "code",
   "execution_count": 3,
   "metadata": {},
   "outputs": [],
   "source": [
    "# Create an instance of the Graph class\n",
    "g = Graph()"
   ]
  },
  {
   "cell_type": "code",
   "execution_count": 4,
   "metadata": {},
   "outputs": [],
   "source": [
    "# Add a few vertices\n",
    "for i in range(5):\n",
    "    g.addVertex(i)"
   ]
  },
  {
   "cell_type": "code",
   "execution_count": 5,
   "metadata": {},
   "outputs": [
    {
     "data": {
      "text/plain": [
       "{0: <__main__.Vertex at 0x110299940>,\n",
       " 1: <__main__.Vertex at 0x110299748>,\n",
       " 2: <__main__.Vertex at 0x1102999e8>,\n",
       " 3: <__main__.Vertex at 0x110299c88>,\n",
       " 4: <__main__.Vertex at 0x110299cc0>}"
      ]
     },
     "execution_count": 5,
     "metadata": {},
     "output_type": "execute_result"
    }
   ],
   "source": [
    "# Print the verices\n",
    "g.vertList"
   ]
  },
  {
   "cell_type": "code",
   "execution_count": 6,
   "metadata": {},
   "outputs": [],
   "source": [
    "# Add some edges to the graph g\n",
    "g.addEdge(0, 1, weight=2)\n",
    "g.addEdge(1, 2, weight=1)\n",
    "g.addEdge(2, 3, weight=5)\n",
    "g.addEdge(3, 4, weight=2)\n",
    "g.addEdge(4, 2, weight=1)\n",
    "g.addEdge(4, 3, weight=2)"
   ]
  },
  {
   "cell_type": "code",
   "execution_count": 7,
   "metadata": {},
   "outputs": [
    {
     "name": "stdout",
     "output_type": "stream",
     "text": [
      "0 connected to: [1]\n",
      "dict_keys([<__main__.Vertex object at 0x110299748>])\n",
      "\n",
      "\n",
      "1 connected to: [2]\n",
      "dict_keys([<__main__.Vertex object at 0x1102999e8>])\n",
      "\n",
      "\n",
      "2 connected to: [3]\n",
      "dict_keys([<__main__.Vertex object at 0x110299c88>])\n",
      "\n",
      "\n",
      "3 connected to: [4]\n",
      "dict_keys([<__main__.Vertex object at 0x110299cc0>])\n",
      "\n",
      "\n",
      "4 connected to: [2, 3]\n",
      "dict_keys([<__main__.Vertex object at 0x1102999e8>, <__main__.Vertex object at 0x110299c88>])\n",
      "\n",
      "\n"
     ]
    }
   ],
   "source": [
    "# Print the verices and their connections\n",
    "for vertex in g:\n",
    "    print(vertex)\n",
    "    print(vertex.getConnections())\n",
    "    print('\\n')"
   ]
  },
  {
   "cell_type": "code",
   "execution_count": null,
   "metadata": {},
   "outputs": [],
   "source": []
  }
 ],
 "metadata": {
  "kernelspec": {
   "display_name": "Python 3",
   "language": "python",
   "name": "python3"
  },
  "language_info": {
   "codemirror_mode": {
    "name": "ipython",
    "version": 3
   },
   "file_extension": ".py",
   "mimetype": "text/x-python",
   "name": "python",
   "nbconvert_exporter": "python",
   "pygments_lexer": "ipython3",
   "version": "3.7.3"
  }
 },
 "nbformat": 4,
 "nbformat_minor": 2
}
