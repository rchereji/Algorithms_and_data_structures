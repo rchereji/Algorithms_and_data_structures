{
 "cells": [
  {
   "cell_type": "markdown",
   "metadata": {},
   "source": [
    "### Locate the smallest window to be sorted\n",
    "Given an unsorted array of integers, determine the bounds of the smallest window that must be sorted in order for the entire array to be sorted.  \n",
    "For example, given [3, 7, 5, 6, 9], return (1, 3)."
   ]
  },
  {
   "cell_type": "code",
   "execution_count": 1,
   "metadata": {},
   "outputs": [],
   "source": [
    "def window(arr):\n",
    "    \n",
    "    right_idx = None\n",
    "    max_seen = -float('inf')\n",
    "    for i in range(len(arr)):\n",
    "        if arr[i] < max_seen: # arr[i] needs to be sorted; right_idx should be at least i\n",
    "            right_idx = i\n",
    "        else:\n",
    "            max_seen = arr[i]\n",
    "    \n",
    "    left_idx = None\n",
    "    min_seen = float('inf')\n",
    "    for i in range(len(arr)-1, -1, -1):\n",
    "        if arr[i] > min_seen: # arr[i] needs to be sorted; left_idx should be at most i\n",
    "            left_idx = i\n",
    "        else:\n",
    "            min_seen = arr[i]\n",
    "        \n",
    "    return (left_idx, right_idx)"
   ]
  },
  {
   "cell_type": "code",
   "execution_count": 2,
   "metadata": {},
   "outputs": [
    {
     "data": {
      "text/plain": [
       "(None, None)"
      ]
     },
     "execution_count": 2,
     "metadata": {},
     "output_type": "execute_result"
    }
   ],
   "source": [
    "window([1,2,3])"
   ]
  },
  {
   "cell_type": "code",
   "execution_count": 3,
   "metadata": {},
   "outputs": [
    {
     "data": {
      "text/plain": [
       "(1, 3)"
      ]
     },
     "execution_count": 3,
     "metadata": {},
     "output_type": "execute_result"
    }
   ],
   "source": [
    "window([3,7,5,6,9])"
   ]
  },
  {
   "cell_type": "code",
   "execution_count": null,
   "metadata": {},
   "outputs": [],
   "source": []
  }
 ],
 "metadata": {
  "kernelspec": {
   "display_name": "Python 3",
   "language": "python",
   "name": "python3"
  },
  "language_info": {
   "codemirror_mode": {
    "name": "ipython",
    "version": 3
   },
   "file_extension": ".py",
   "mimetype": "text/x-python",
   "name": "python",
   "nbconvert_exporter": "python",
   "pygments_lexer": "ipython3",
   "version": "3.7.3"
  }
 },
 "nbformat": 4,
 "nbformat_minor": 2
}
