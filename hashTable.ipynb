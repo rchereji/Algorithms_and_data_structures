{
 "cells": [
  {
   "cell_type": "markdown",
   "metadata": {},
   "source": [
    "## Hash tables"
   ]
  },
  {
   "cell_type": "code",
   "execution_count": 1,
   "metadata": {},
   "outputs": [],
   "source": [
    "class HashTable:\n",
    "    # initialize the hash table: size, keys, values\n",
    "    def __init__(self):\n",
    "        self.size = 10\n",
    "        self.keys = [None] * self.size\n",
    "        self.values = [None] * self.size\n",
    "    \n",
    "    # method to add a key:value pair to the hash table\n",
    "    def put(self, key, value):\n",
    "        # get the index using the hash function\n",
    "        index = self.hashfunction(key)\n",
    "        \n",
    "        # make sure that the slot in the array is empty \n",
    "        # (otherwise, increase the index until an empty slot is found, \n",
    "        # or update the value of an existing key)\n",
    "        while self.keys[index] is not None:\n",
    "            if self.keys[index] == key:\n",
    "                self.values[index] = value\n",
    "                return\n",
    "            \n",
    "            # increase the index to check whether the following slot is empty or not \n",
    "            index += 1\n",
    "         \n",
    "        # insert a new key:value pair in the first available slot\n",
    "        self.keys[index] = key\n",
    "        self.values[index] = value\n",
    "        \n",
    "    # method to get a key:value pair from the hash table\n",
    "    def get(self, key):\n",
    "        # get the index using the hash function\n",
    "        index = self.hashfunction(key)\n",
    "        \n",
    "        # find the first slot with the given key\n",
    "        while self.keys[index] is not None:\n",
    "            if self.keys[index] == key:\n",
    "                return self.values[index]\n",
    "        \n",
    "        # if the key was not found, return None\n",
    "        return None\n",
    "    \n",
    "    # hash function to compute the array index corresponding to each key\n",
    "    def hashfunction(self, key):\n",
    "        totalAscii = 0\n",
    "        for i in range(len(key)):\n",
    "            totalAscii += ord(key[i])   \n",
    "        \n",
    "        return totalAscii % self.size\n"
   ]
  },
  {
   "cell_type": "code",
   "execution_count": 2,
   "metadata": {},
   "outputs": [],
   "source": [
    "# create a hash table\n",
    "table = HashTable()\n",
    "\n",
    "table.put(\"apple\", 10)\n",
    "table.put(\"orange\", 20)\n",
    "table.put(\"pear\", 30)\n",
    "table.put(\"walnut\", 40)"
   ]
  },
  {
   "cell_type": "code",
   "execution_count": 3,
   "metadata": {},
   "outputs": [
    {
     "name": "stdout",
     "output_type": "stream",
     "text": [
      "10\n",
      "20\n"
     ]
    }
   ],
   "source": [
    "# get the values corresponding to given keys\n",
    "print(table.get(\"apple\"))\n",
    "print(table.get(\"orange\"))"
   ]
  },
  {
   "cell_type": "code",
   "execution_count": 4,
   "metadata": {},
   "outputs": [
    {
     "data": {
      "text/plain": [
       "['apple', None, None, None, 'pear', None, 'orange', 'walnut', None, None]"
      ]
     },
     "execution_count": 4,
     "metadata": {},
     "output_type": "execute_result"
    }
   ],
   "source": [
    "# check the array corresponding to the hash table keys\n",
    "table.keys"
   ]
  },
  {
   "cell_type": "code",
   "execution_count": 5,
   "metadata": {},
   "outputs": [
    {
     "data": {
      "text/plain": [
       "[10, None, None, None, 30, None, 20, 40, None, None]"
      ]
     },
     "execution_count": 5,
     "metadata": {},
     "output_type": "execute_result"
    }
   ],
   "source": [
    "# check the array corresponding to the hash table values\n",
    "table.values"
   ]
  },
  {
   "cell_type": "code",
   "execution_count": null,
   "metadata": {},
   "outputs": [],
   "source": []
  }
 ],
 "metadata": {
  "kernelspec": {
   "display_name": "Python 3",
   "language": "python",
   "name": "python3"
  },
  "language_info": {
   "codemirror_mode": {
    "name": "ipython",
    "version": 3
   },
   "file_extension": ".py",
   "mimetype": "text/x-python",
   "name": "python",
   "nbconvert_exporter": "python",
   "pygments_lexer": "ipython3",
   "version": "3.7.3"
  }
 },
 "nbformat": 4,
 "nbformat_minor": 2
}
