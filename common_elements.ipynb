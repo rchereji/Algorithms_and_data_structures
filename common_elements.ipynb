{
 "cells": [
  {
   "cell_type": "markdown",
   "metadata": {},
   "source": [
    "### Common elements in sorted arrays\n",
    "Return the common elements in two sorted arrays."
   ]
  },
  {
   "cell_type": "code",
   "execution_count": 1,
   "metadata": {},
   "outputs": [],
   "source": [
    "def common_elements(arr1, arr2):\n",
    "    \n",
    "    common_set = set()\n",
    "    \n",
    "    # Traverse both arrays using indices i1 and i2, respectively\n",
    "    i1 = i2 = 0\n",
    "    \n",
    "    while i1 < len(arr1) and i2 < len(arr2):\n",
    "        if arr1[i1] == arr2[i2]:\n",
    "            common_set.add(arr1[i1])   # add the common element to common_set\n",
    "            i1 += 1\n",
    "            i2 += 1\n",
    "            \n",
    "        elif arr1[i1] < arr2[i2]:      # increase the index i1 (the smaller number, arr1[i1])\n",
    "            i1 += 1\n",
    "            \n",
    "        else: # if arr1[i1] > arr2[i2], then increase the index i2 (the smaller number, arr2[i2])\n",
    "            i2 += 1\n",
    "            \n",
    "    return common_set"
   ]
  },
  {
   "cell_type": "code",
   "execution_count": 2,
   "metadata": {},
   "outputs": [
    {
     "data": {
      "text/plain": [
       "{4, 6, 10}"
      ]
     },
     "execution_count": 2,
     "metadata": {},
     "output_type": "execute_result"
    }
   ],
   "source": [
    "common_elements([1, 3, 4, 5, 6, 7, 9, 10], [2, 4, 6, 8, 10])"
   ]
  },
  {
   "cell_type": "code",
   "execution_count": null,
   "metadata": {},
   "outputs": [],
   "source": []
  }
 ],
 "metadata": {
  "kernelspec": {
   "display_name": "Python 3",
   "language": "python",
   "name": "python3"
  },
  "language_info": {
   "codemirror_mode": {
    "name": "ipython",
    "version": 3
   },
   "file_extension": ".py",
   "mimetype": "text/x-python",
   "name": "python",
   "nbconvert_exporter": "python",
   "pygments_lexer": "ipython3",
   "version": "3.7.3"
  }
 },
 "nbformat": 4,
 "nbformat_minor": 2
}
