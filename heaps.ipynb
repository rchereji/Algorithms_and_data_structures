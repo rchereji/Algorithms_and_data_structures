{
 "cells": [
  {
   "cell_type": "markdown",
   "metadata": {},
   "source": [
    "## Heaps"
   ]
  },
  {
   "cell_type": "code",
   "execution_count": 1,
   "metadata": {},
   "outputs": [],
   "source": [
    "from heapq import heappop, heappush, heapify"
   ]
  },
  {
   "cell_type": "code",
   "execution_count": 2,
   "metadata": {},
   "outputs": [
    {
     "name": "stdout",
     "output_type": "stream",
     "text": [
      "[12]\n",
      "[3, 12]\n",
      "[-2, 12, 3]\n",
      "[-2, 6, 3, 12]\n",
      "[-2, 4, 3, 12, 6]\n",
      "[-2, 4, 3, 12, 6, 8]\n",
      "[-2, 4, 3, 12, 6, 8, 9]\n"
     ]
    }
   ],
   "source": [
    "heap = []\n",
    "nums = [12, 3, -2, 6, 4, 8, 9]\n",
    "\n",
    "for num in nums:\n",
    "    heappush(heap, num)\n",
    "    print(heap)"
   ]
  },
  {
   "cell_type": "markdown",
   "metadata": {},
   "source": [
    "Each parent node (index i) has 2 children, with indices 2i+1 and 2i+2.\n",
    "\n",
    "The resulting min-heap is:  \n",
    "&nbsp;&nbsp;&nbsp;&nbsp;&nbsp;&nbsp;&nbsp;-2  \n",
    "&nbsp;&nbsp;&nbsp;&nbsp;&nbsp;&nbsp;/&nbsp;&nbsp;&nbsp;&nbsp;\\  \n",
    "&nbsp;&nbsp;&nbsp;&nbsp;4&nbsp;&nbsp;&nbsp;&nbsp;&nbsp;&nbsp;&nbsp;3  \n",
    "&nbsp;&nbsp;&nbsp;/&nbsp; \\ &nbsp;&nbsp;&nbsp;&nbsp;/&nbsp;&nbsp;\\  \n",
    "12&nbsp;&nbsp;&nbsp;6&nbsp;&nbsp;8&nbsp;&nbsp;&nbsp;9  \n",
    "  "
   ]
  },
  {
   "cell_type": "code",
   "execution_count": 3,
   "metadata": {},
   "outputs": [
    {
     "name": "stdout",
     "output_type": "stream",
     "text": [
      "-2 [3, 4, 8, 12, 6, 9]\n",
      "3 [4, 6, 8, 12, 9]\n",
      "4 [6, 9, 8, 12]\n",
      "6 [8, 9, 12]\n",
      "8 [9, 12]\n",
      "9 [12]\n",
      "12 []\n"
     ]
    }
   ],
   "source": [
    "while heap:\n",
    "    print(heappop(heap), heap)"
   ]
  },
  {
   "cell_type": "code",
   "execution_count": 4,
   "metadata": {},
   "outputs": [
    {
     "data": {
      "text/plain": [
       "[-2, 3, 8, 6, 4, 12, 9]"
      ]
     },
     "execution_count": 4,
     "metadata": {},
     "output_type": "execute_result"
    }
   ],
   "source": [
    "heapify(nums)\n",
    "nums"
   ]
  },
  {
   "cell_type": "markdown",
   "metadata": {},
   "source": [
    "One way to implement a max-heap is to multiply all numbers by -1, and to keep track that all numbers have the opposite sign."
   ]
  },
  {
   "cell_type": "code",
   "execution_count": 5,
   "metadata": {},
   "outputs": [
    {
     "name": "stdout",
     "output_type": "stream",
     "text": [
      "[12]\n",
      "[12, 3]\n",
      "[12, 3, -2]\n",
      "[12, 6, -2, 3]\n",
      "[12, 6, -2, 3, 4]\n",
      "[12, 6, 8, 3, 4, -2]\n",
      "[12, 6, 9, 3, 4, -2, 8]\n"
     ]
    }
   ],
   "source": [
    "heap = []\n",
    "nums = [12, 3, -2, 6, 4, 8, 9]\n",
    "\n",
    "for num in nums:\n",
    "    heappush(heap, -1*num)\n",
    "    print([-x for x in heap])"
   ]
  },
  {
   "cell_type": "code",
   "execution_count": 6,
   "metadata": {},
   "outputs": [
    {
     "name": "stdout",
     "output_type": "stream",
     "text": [
      "[12, 6, 9, 3, 4, 8, -2]\n"
     ]
    }
   ],
   "source": [
    "neg_nums = [-x for x in nums]\n",
    "heapify(neg_nums)\n",
    "print([-x for x in neg_nums])"
   ]
  },
  {
   "cell_type": "code",
   "execution_count": null,
   "metadata": {},
   "outputs": [],
   "source": []
  }
 ],
 "metadata": {
  "kernelspec": {
   "display_name": "Python 3",
   "language": "python",
   "name": "python3"
  },
  "language_info": {
   "codemirror_mode": {
    "name": "ipython",
    "version": 3
   },
   "file_extension": ".py",
   "mimetype": "text/x-python",
   "name": "python",
   "nbconvert_exporter": "python",
   "pygments_lexer": "ipython3",
   "version": "3.7.3"
  }
 },
 "nbformat": 4,
 "nbformat_minor": 2
}
