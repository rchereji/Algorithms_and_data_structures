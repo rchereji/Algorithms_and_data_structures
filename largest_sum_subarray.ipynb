{
 "cells": [
  {
   "cell_type": "markdown",
   "metadata": {},
   "source": [
    "### Largest sum subarray problem overview\n",
    "\n",
    "Create an algorithm to find the sum of contiguous subarray within a one-dimensional array of numbers which has the largest sum."
   ]
  },
  {
   "cell_type": "code",
   "execution_count": 1,
   "metadata": {},
   "outputs": [],
   "source": [
    "def find_max_sum(nums):\n",
    "    # Kadane algorithm\n",
    "    \n",
    "    current_max = global_max = nums[0]\n",
    "    \n",
    "    for x in nums[1:]:\n",
    "        current_max = max(x, current_max + x)\n",
    "        global_max = max(current_max, global_max)\n",
    "        \n",
    "    return global_max"
   ]
  },
  {
   "cell_type": "code",
   "execution_count": 2,
   "metadata": {},
   "outputs": [
    {
     "data": {
      "text/plain": [
       "10"
      ]
     },
     "execution_count": 2,
     "metadata": {},
     "output_type": "execute_result"
    }
   ],
   "source": [
    "nums = [1, -2, 3, 4, -5, 8]\n",
    "find_max_sum(nums)"
   ]
  },
  {
   "cell_type": "markdown",
   "metadata": {},
   "source": [
    "Extra task: return the start and end of the max sum subarray."
   ]
  },
  {
   "cell_type": "code",
   "execution_count": 3,
   "metadata": {},
   "outputs": [],
   "source": [
    "def find_max_sum_2(nums):\n",
    "    # Kadane algorithm\n",
    "    \n",
    "    current_max = global_max = nums[0]\n",
    "    start_ind = 0\n",
    "    end_ind = 0\n",
    "    \n",
    "    for ind in range(1, len(nums), 1):\n",
    "        x = nums[ind]\n",
    "        if x > current_max + x:\n",
    "            start_ind = ind\n",
    "\n",
    "        current_max = max(x, current_max + x)\n",
    "        \n",
    "        if current_max >= global_max:\n",
    "            end_ind = ind\n",
    "            \n",
    "        global_max = max(current_max, global_max)\n",
    "        \n",
    "    print('Maximum sum: {}'.format(global_max))\n",
    "    print('Subarray: {}'.format(nums[start_ind:(end_ind+1)]))"
   ]
  },
  {
   "cell_type": "code",
   "execution_count": 4,
   "metadata": {},
   "outputs": [
    {
     "name": "stdout",
     "output_type": "stream",
     "text": [
      "Maximum sum: 10\n",
      "Subarray: [3, 4, -5, 8]\n"
     ]
    }
   ],
   "source": [
    "nums = [1, -2, 3, 4, -5, 8]\n",
    "find_max_sum_2(nums)"
   ]
  },
  {
   "cell_type": "code",
   "execution_count": null,
   "metadata": {},
   "outputs": [],
   "source": []
  }
 ],
 "metadata": {
  "kernelspec": {
   "display_name": "Python 3",
   "language": "python",
   "name": "python3"
  },
  "language_info": {
   "codemirror_mode": {
    "name": "ipython",
    "version": 3
   },
   "file_extension": ".py",
   "mimetype": "text/x-python",
   "name": "python",
   "nbconvert_exporter": "python",
   "pygments_lexer": "ipython3",
   "version": "3.7.3"
  }
 },
 "nbformat": 4,
 "nbformat_minor": 2
}
