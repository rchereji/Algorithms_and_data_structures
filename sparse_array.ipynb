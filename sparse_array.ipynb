{
 "cells": [
  {
   "cell_type": "markdown",
   "metadata": {},
   "source": [
    "### Sparse array\n",
    "Implement a sparse array class, with the following methods:  \n",
    "* __init__(arr): initialize with the original array (only keep the non-zero values)\n",
    "* __setValue__(i, val): update index i to be val\n",
    "* __getValue__(i): get the value at index i"
   ]
  },
  {
   "cell_type": "code",
   "execution_count": 1,
   "metadata": {},
   "outputs": [],
   "source": [
    "class SparseArray:\n",
    "    \n",
    "    def __init__(self, arr):\n",
    "        self.size = len(arr)\n",
    "        self.data = dict()\n",
    "        \n",
    "        for i,num in enumerate(arr):\n",
    "            if num != 0:\n",
    "                self.data[i] = num\n",
    "                \n",
    "    def setValue(self, i, val):\n",
    "        if (i < 0) or (i >= self.size):\n",
    "            raise IndexError('Out of bounds')\n",
    "            \n",
    "        self.data[i] = val\n",
    "        if val == 0:\n",
    "            del self.data[i]\n",
    "            \n",
    "    def getValue(self, i):\n",
    "        if (i < 0) or (i >= self.size):\n",
    "            raise IndexError('Out of bounds')\n",
    "            \n",
    "        if i in self.data:\n",
    "            return self.data[i]\n",
    "        else:\n",
    "            return 0\n",
    "    \n",
    "    def __str__(self):\n",
    "        return str(self.data)\n",
    "        "
   ]
  },
  {
   "cell_type": "code",
   "execution_count": 2,
   "metadata": {},
   "outputs": [],
   "source": [
    "# Create a sparse array\n",
    "arr = [0,0,0,0,0,0,0,0,0,0,1,0,0,0,0,0,0,0,0,0,2]\n",
    "a = SparseArray(arr)"
   ]
  },
  {
   "cell_type": "code",
   "execution_count": 3,
   "metadata": {},
   "outputs": [
    {
     "name": "stdout",
     "output_type": "stream",
     "text": [
      "{10: 1, 20: 2}\n"
     ]
    }
   ],
   "source": [
    "# Print the non-zero values of the sparse array\n",
    "print(a)"
   ]
  },
  {
   "cell_type": "code",
   "execution_count": 4,
   "metadata": {},
   "outputs": [
    {
     "data": {
      "text/plain": [
       "2"
      ]
     },
     "execution_count": 4,
     "metadata": {},
     "output_type": "execute_result"
    }
   ],
   "source": [
    "# Get a specific value by index\n",
    "a.getValue(20)"
   ]
  },
  {
   "cell_type": "code",
   "execution_count": 5,
   "metadata": {},
   "outputs": [
    {
     "name": "stdout",
     "output_type": "stream",
     "text": [
      "{10: 1, 20: 2, 15: 3}\n"
     ]
    }
   ],
   "source": [
    "# Add a new value\n",
    "a.setValue(15,3)\n",
    "print(a)"
   ]
  },
  {
   "cell_type": "code",
   "execution_count": 6,
   "metadata": {},
   "outputs": [
    {
     "name": "stdout",
     "output_type": "stream",
     "text": [
      "{10: 1, 20: 2}\n"
     ]
    }
   ],
   "source": [
    "# Remove a value\n",
    "a.setValue(15,0)\n",
    "print(a)"
   ]
  },
  {
   "cell_type": "code",
   "execution_count": null,
   "metadata": {},
   "outputs": [],
   "source": []
  }
 ],
 "metadata": {
  "kernelspec": {
   "display_name": "Python 3",
   "language": "python",
   "name": "python3"
  },
  "language_info": {
   "codemirror_mode": {
    "name": "ipython",
    "version": 3
   },
   "file_extension": ".py",
   "mimetype": "text/x-python",
   "name": "python",
   "nbconvert_exporter": "python",
   "pygments_lexer": "ipython3",
   "version": "3.7.3"
  }
 },
 "nbformat": 4,
 "nbformat_minor": 2
}
