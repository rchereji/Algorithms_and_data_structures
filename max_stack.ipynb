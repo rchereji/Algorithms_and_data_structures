{
 "cells": [
  {
   "cell_type": "markdown",
   "metadata": {},
   "source": [
    "### Max in a stack problem\n",
    "\n",
    "The aim is to design an algorithm that can return the maximum item of a stack in O(1) running time complexity. We can use O(N) extra memory.\n",
    "\n",
    "Hint: Use another stack to track the max item"
   ]
  },
  {
   "cell_type": "code",
   "execution_count": 1,
   "metadata": {},
   "outputs": [],
   "source": [
    "# Create a class for the stack.\n",
    "class MaxStack:\n",
    "    def __init__(self):\n",
    "        self.data = []\n",
    "        self.maxStack = []\n",
    "\n",
    "    def isEmpty(self):\n",
    "        return self.data == []\n",
    "    \n",
    "    def size(self):\n",
    "        return len(self.data)\n",
    "        \n",
    "    # push method\n",
    "    def push(self, newData):\n",
    "        self.data = self.data + [newData]\n",
    "        if len(self.maxStack) > 0:\n",
    "            self.maxStack = self.maxStack + [max(newData, self.maxStack[-1])]\n",
    "        else:\n",
    "            self.maxStack = self.maxStack + [newData]\n",
    "        \n",
    "    # pop method\n",
    "    def pop(self):\n",
    "        lastElem = self.data[-1]\n",
    "        del self.data[-1]\n",
    "        del self.maxStack[-1]\n",
    "        return lastElem\n",
    "        \n",
    "    # peek method   \n",
    "    def peek(self):\n",
    "        return self.data[-1]\n",
    "    \n",
    "    # getMax method\n",
    "    def getMax(self):\n",
    "        return self.maxStack[-1]\n",
    "        \n",
    "    # Method to print the elements of the stack\n",
    "    def printElements(self):\n",
    "        print(self.data)"
   ]
  },
  {
   "cell_type": "code",
   "execution_count": 2,
   "metadata": {},
   "outputs": [],
   "source": [
    "# Create a stack\n",
    "S = MaxStack()\n",
    "\n",
    "# Add some data\n",
    "S.push(100)\n",
    "S.push(10)\n",
    "S.push(20)\n",
    "S.push(500)\n",
    "S.push(1000)"
   ]
  },
  {
   "cell_type": "code",
   "execution_count": 3,
   "metadata": {},
   "outputs": [
    {
     "data": {
      "text/plain": [
       "1000"
      ]
     },
     "execution_count": 3,
     "metadata": {},
     "output_type": "execute_result"
    }
   ],
   "source": [
    "# Get the number of elements\n",
    "S.getMax()"
   ]
  },
  {
   "cell_type": "code",
   "execution_count": 4,
   "metadata": {},
   "outputs": [
    {
     "data": {
      "text/plain": [
       "500"
      ]
     },
     "execution_count": 4,
     "metadata": {},
     "output_type": "execute_result"
    }
   ],
   "source": [
    "# Remove an element\n",
    "S.pop()\n",
    "S.getMax()"
   ]
  },
  {
   "cell_type": "code",
   "execution_count": 5,
   "metadata": {},
   "outputs": [
    {
     "data": {
      "text/plain": [
       "100"
      ]
     },
     "execution_count": 5,
     "metadata": {},
     "output_type": "execute_result"
    }
   ],
   "source": [
    "# and another one...\n",
    "S.pop()\n",
    "S.getMax()"
   ]
  },
  {
   "cell_type": "code",
   "execution_count": 6,
   "metadata": {},
   "outputs": [
    {
     "data": {
      "text/plain": [
       "100"
      ]
     },
     "execution_count": 6,
     "metadata": {},
     "output_type": "execute_result"
    }
   ],
   "source": [
    "# and another one...\n",
    "S.pop()\n",
    "S.getMax()"
   ]
  },
  {
   "cell_type": "code",
   "execution_count": 7,
   "metadata": {},
   "outputs": [
    {
     "name": "stdout",
     "output_type": "stream",
     "text": [
      "[100, 10]\n"
     ]
    }
   ],
   "source": [
    "# Print remaining elements in the stack\n",
    "S.printElements()"
   ]
  },
  {
   "cell_type": "code",
   "execution_count": null,
   "metadata": {},
   "outputs": [],
   "source": []
  }
 ],
 "metadata": {
  "kernelspec": {
   "display_name": "Python 3",
   "language": "python",
   "name": "python3"
  },
  "language_info": {
   "codemirror_mode": {
    "name": "ipython",
    "version": 3
   },
   "file_extension": ".py",
   "mimetype": "text/x-python",
   "name": "python",
   "nbconvert_exporter": "python",
   "pygments_lexer": "ipython3",
   "version": "3.7.3"
  }
 },
 "nbformat": 4,
 "nbformat_minor": 2
}
