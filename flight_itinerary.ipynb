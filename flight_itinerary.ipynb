{
 "cells": [
  {
   "cell_type": "markdown",
   "metadata": {},
   "source": [
    "### Compute flight itinerary\n",
    "Given a starting airport and an unordered list of flights taken by someone, each represented as a `(origin,destination)` tuple, compute a possible itinerary that includes all flights in the original list of tuples."
   ]
  },
  {
   "cell_type": "code",
   "execution_count": 1,
   "metadata": {},
   "outputs": [],
   "source": [
    "def compute_itinerary(flights, partial_itinerary):\n",
    "    \n",
    "    # Check for a solution\n",
    "    if flights==[]:\n",
    "        print(partial_itinerary)\n",
    "    else:\n",
    "        # Add flights to the partial itinerary\n",
    "        current_airport = partial_itinerary[-1]\n",
    "        \n",
    "        # Check all available flights\n",
    "        for i, (origin, destination) in enumerate(flights):\n",
    "            if origin==current_airport: # Possible flight from the current airport\n",
    "                partial_itinerary.append(destination) # Add destination to itinerary\n",
    "                new_list_of_flights = flights[:i] + flights[i+1:] # Remove flight from list\n",
    "                compute_itinerary(new_list_of_flights, partial_itinerary)\n",
    "                \n",
    "                partial_itinerary.pop()"
   ]
  },
  {
   "cell_type": "code",
   "execution_count": 2,
   "metadata": {},
   "outputs": [],
   "source": [
    "flights = [('SFO','HKO'), \n",
    "           ('YYZ','SFO'), \n",
    "           ('YUL','YYZ'),\n",
    "           ('HKO','ORD')]\n",
    "partial_itinerary = ['YUL']\n",
    "compute_itinerary(flights, partial_itinerary)"
   ]
  },
  {
   "cell_type": "code",
   "execution_count": null,
   "metadata": {},
   "outputs": [],
   "source": []
  }
 ],
 "metadata": {
  "kernelspec": {
   "display_name": "Python 3",
   "language": "python",
   "name": "python3"
  },
  "language_info": {
   "codemirror_mode": {
    "name": "ipython",
    "version": 3
   },
   "file_extension": ".py",
   "mimetype": "text/x-python",
   "name": "python",
   "nbconvert_exporter": "python",
   "pygments_lexer": "ipython3",
   "version": "3.7.3"
  }
 },
 "nbformat": 4,
 "nbformat_minor": 2
}
