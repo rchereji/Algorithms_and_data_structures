{
 "cells": [
  {
   "cell_type": "markdown",
   "metadata": {},
   "source": [
    "### Number of ways to climb a staircase\n",
    "There exists a staircase with n steps which you can climb up either 1 or 2 stps at a time. Given n, write a function that returns the number of unique ways you can climb the staircase. The order of the steps matters.\n",
    "\n",
    "The lst step can be either of 1 or 2 stairs, so the recursion relation is:  \n",
    "$N(S) = N(S-1) + N(S-2)$."
   ]
  },
  {
   "cell_type": "code",
   "execution_count": 1,
   "metadata": {},
   "outputs": [],
   "source": [
    "def count_stairs(S, N=None):\n",
    "    if N == None:\n",
    "        N={0:1, 1:1}\n",
    "        \n",
    "    if S in N:\n",
    "        return N[S]\n",
    "    else:\n",
    "        N[S] = count_stairs(S-1, N) + count_stairs(S-2, N)\n",
    "        return N[S]"
   ]
  },
  {
   "cell_type": "code",
   "execution_count": 2,
   "metadata": {},
   "outputs": [
    {
     "data": {
      "text/plain": [
       "5"
      ]
     },
     "execution_count": 2,
     "metadata": {},
     "output_type": "execute_result"
    }
   ],
   "source": [
    "count_stairs(4)"
   ]
  },
  {
   "cell_type": "markdown",
   "metadata": {},
   "source": [
    "Follow-up: what if, instead of being able to climb 1 or 2 steps at a time, you could climb any number from a set of positive integers X? For example, if X={1,3,5}, you could climb 1, 3, or 5 steps at a time."
   ]
  },
  {
   "cell_type": "code",
   "execution_count": 3,
   "metadata": {},
   "outputs": [],
   "source": [
    "def count_stairs_2(S, X, N=None):\n",
    "    if N is None:\n",
    "        N = {0:1}\n",
    "\n",
    "    if S<0: \n",
    "        return 0\n",
    "    \n",
    "    if S in N:\n",
    "        return N[S]\n",
    "    \n",
    "    N[S] = sum([count_stairs_2(S-step, X, N) for step in X])\n",
    "    return N[S]"
   ]
  },
  {
   "cell_type": "code",
   "execution_count": 4,
   "metadata": {},
   "outputs": [
    {
     "data": {
      "text/plain": [
       "3"
      ]
     },
     "execution_count": 4,
     "metadata": {},
     "output_type": "execute_result"
    }
   ],
   "source": [
    "count_stairs_2(3, [1,2])"
   ]
  },
  {
   "cell_type": "code",
   "execution_count": 5,
   "metadata": {},
   "outputs": [
    {
     "data": {
      "text/plain": [
       "4"
      ]
     },
     "execution_count": 5,
     "metadata": {},
     "output_type": "execute_result"
    }
   ],
   "source": [
    "count_stairs_2(3, [1,2,3])"
   ]
  },
  {
   "cell_type": "code",
   "execution_count": null,
   "metadata": {},
   "outputs": [],
   "source": []
  }
 ],
 "metadata": {
  "kernelspec": {
   "display_name": "Python 3",
   "language": "python",
   "name": "python3"
  },
  "language_info": {
   "codemirror_mode": {
    "name": "ipython",
    "version": 3
   },
   "file_extension": ".py",
   "mimetype": "text/x-python",
   "name": "python",
   "nbconvert_exporter": "python",
   "pygments_lexer": "ipython3",
   "version": "3.7.3"
  }
 },
 "nbformat": 4,
 "nbformat_minor": 2
}
