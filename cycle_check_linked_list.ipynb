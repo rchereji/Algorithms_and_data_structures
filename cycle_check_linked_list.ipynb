{
 "cells": [
  {
   "cell_type": "markdown",
   "metadata": {},
   "source": [
    "### Singly linked list cycle check\n",
    "Given a singly linked list, write a function to check if the linked list contains a \"cycle\"."
   ]
  },
  {
   "cell_type": "code",
   "execution_count": 1,
   "metadata": {},
   "outputs": [],
   "source": [
    "# Create a class for a node in the linked list\n",
    "class Node:\n",
    "    def __init__(self, data):\n",
    "        self.data     = data\n",
    "        self.nextNode = None\n",
    "        \n",
    "# Create a class for the linked list\n",
    "class LinkedList:\n",
    "    def __init__(self):\n",
    "        self.head = None\n",
    "        self.size = 0\n",
    "        \n",
    "    # Create a method to insert a node at the start    \n",
    "    def insertStart(self, data):\n",
    "        newNode = Node(data)\n",
    "        self.size += 1\n",
    "        \n",
    "        if self.head is None:\n",
    "            self.head = newNode\n",
    "        else:\n",
    "            newNode.nextNode = self.head\n",
    "            self.head        = newNode\n",
    "    \n",
    "    # Create a method to insert a node at the end of the list\n",
    "    def insertEnd(self, data):\n",
    "        # Create a new node\n",
    "        newNode = Node(data)\n",
    "        self.size += 1\n",
    "        \n",
    "        if self.head is None:\n",
    "            self.head = newNode\n",
    "        else:\n",
    "            # Traverse the linked list to find the last node\n",
    "            currentNode = self.head\n",
    "            while currentNode.nextNode is not None:\n",
    "                currentNode = currentNode.nextNode\n",
    "            \n",
    "            # CurrentNode now points to the last node in the list\n",
    "            # Point the nextNode pointer to the new node, newNode\n",
    "            currentNode.nextNode = newNode\n",
    "        \n",
    "    # Method to remove a node, specified by its value    \n",
    "    def remove(self, data):\n",
    "        if self.head is None:\n",
    "            return\n",
    "        else:\n",
    "            currentNode = self.head\n",
    "            prevNode = None\n",
    "            \n",
    "            while currentNode is not None:\n",
    "                # If the node is found, then remove it\n",
    "                if currentNode.data == data:\n",
    "                    # If the head needs to be removed\n",
    "                    if (currentNode == self.head):\n",
    "                        self.head = currentNode.nextNode\n",
    "                    # If another node needs to be removed\n",
    "                    else:\n",
    "                        prevNode.nextNode = currentNode.nextNode\n",
    "                    \n",
    "                    self.size -= 1\n",
    "                    \n",
    "                    return\n",
    "                        \n",
    "                # If the current node is not the node to be removed\n",
    "                prevNode = currentNode\n",
    "                currentNode = currentNode.nextNode\n",
    "        \n",
    "    # Method to traverse the linked list\n",
    "    def traverseList(self):\n",
    "        if self.head is None:\n",
    "            print(\"Empty list!\")\n",
    "        else:\n",
    "            currentNode = self.head\n",
    "            while currentNode is not None:\n",
    "                print(currentNode.data, end =\" \")\n",
    "                currentNode = currentNode.nextNode"
   ]
  },
  {
   "cell_type": "code",
   "execution_count": 2,
   "metadata": {},
   "outputs": [],
   "source": [
    "def cycle_check(L):\n",
    "    seen = set()\n",
    "    \n",
    "    currentNode = L.head\n",
    "    while currentNode is not None:\n",
    "        if currentNode.data in seen:\n",
    "            return True\n",
    "        else:\n",
    "            seen.add(currentNode.data)\n",
    "            currentNode = currentNode.nextNode\n",
    "            \n",
    "    return False"
   ]
  },
  {
   "cell_type": "code",
   "execution_count": 3,
   "metadata": {},
   "outputs": [],
   "source": [
    "# Create a simply-linked list\n",
    "L = LinkedList()\n",
    "\n",
    "# Add some data\n",
    "L.insertStart(3)\n",
    "L.insertStart(2)\n",
    "L.insertStart(1)\n",
    "L.insertEnd(4)\n",
    "L.insertEnd(5)"
   ]
  },
  {
   "cell_type": "code",
   "execution_count": 4,
   "metadata": {},
   "outputs": [
    {
     "name": "stdout",
     "output_type": "stream",
     "text": [
      "1 2 3 4 5 "
     ]
    }
   ],
   "source": [
    "# Traverse the list and print its elements\n",
    "L.traverseList()"
   ]
  },
  {
   "cell_type": "code",
   "execution_count": 5,
   "metadata": {},
   "outputs": [
    {
     "data": {
      "text/plain": [
       "False"
      ]
     },
     "execution_count": 5,
     "metadata": {},
     "output_type": "execute_result"
    }
   ],
   "source": [
    "cycle_check(L)"
   ]
  },
  {
   "cell_type": "code",
   "execution_count": 6,
   "metadata": {},
   "outputs": [],
   "source": [
    "L2 = LinkedList()\n",
    "\n",
    "# Add some data\n",
    "L2.insertStart(1)\n",
    "L2.insertEnd(2)\n",
    "L2.insertEnd(3)\n",
    "L2.insertEnd(1)"
   ]
  },
  {
   "cell_type": "code",
   "execution_count": 7,
   "metadata": {},
   "outputs": [
    {
     "name": "stdout",
     "output_type": "stream",
     "text": [
      "1 2 3 1 "
     ]
    }
   ],
   "source": [
    "L2.traverseList()"
   ]
  },
  {
   "cell_type": "code",
   "execution_count": 8,
   "metadata": {},
   "outputs": [
    {
     "data": {
      "text/plain": [
       "True"
      ]
     },
     "execution_count": 8,
     "metadata": {},
     "output_type": "execute_result"
    }
   ],
   "source": [
    "cycle_check(L2)"
   ]
  },
  {
   "cell_type": "code",
   "execution_count": null,
   "metadata": {},
   "outputs": [],
   "source": []
  }
 ],
 "metadata": {
  "kernelspec": {
   "display_name": "Python 3",
   "language": "python",
   "name": "python3"
  },
  "language_info": {
   "codemirror_mode": {
    "name": "ipython",
    "version": 3
   },
   "file_extension": ".py",
   "mimetype": "text/x-python",
   "name": "python",
   "nbconvert_exporter": "python",
   "pygments_lexer": "ipython3",
   "version": "3.7.3"
  }
 },
 "nbformat": 4,
 "nbformat_minor": 2
}
