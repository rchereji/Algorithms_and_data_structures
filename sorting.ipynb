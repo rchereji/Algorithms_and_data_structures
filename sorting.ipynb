{
 "cells": [
  {
   "cell_type": "markdown",
   "metadata": {},
   "source": [
    "## Sorting"
   ]
  },
  {
   "cell_type": "markdown",
   "metadata": {},
   "source": [
    "### Bubble sort"
   ]
  },
  {
   "cell_type": "code",
   "execution_count": 1,
   "metadata": {},
   "outputs": [],
   "source": [
    "def bubble_sort(nums):\n",
    "    for i in range(len(nums)-1):\n",
    "        for j in range(len(nums)-1-i):\n",
    "            if nums[j] > nums[j+1]:\n",
    "                # swap this pair\n",
    "                nums[j],nums[j+1] = nums[j+1],nums[j]                "
   ]
  },
  {
   "cell_type": "code",
   "execution_count": 2,
   "metadata": {},
   "outputs": [
    {
     "name": "stdout",
     "output_type": "stream",
     "text": [
      "Original array: [1, 4, 2, 5, 3, 8, 6, 9, 10, 7]\n",
      "Sorted array:   [1, 2, 3, 4, 5, 6, 7, 8, 9, 10]\n"
     ]
    }
   ],
   "source": [
    "nums = [1,4,2,5,3,8,6,9,10,7]\n",
    "print(\"Original array: \" + str(nums))\n",
    "\n",
    "bubble_sort(nums)\n",
    "print(\"Sorted array:   \" + str(nums))"
   ]
  },
  {
   "cell_type": "markdown",
   "metadata": {},
   "source": [
    "### Selection sort"
   ]
  },
  {
   "cell_type": "code",
   "execution_count": 3,
   "metadata": {},
   "outputs": [],
   "source": [
    "def selection_sort(nums):\n",
    "    for i in range(len(nums)-1):\n",
    "        \n",
    "        # find minimum in the unsorted part of the array\n",
    "        min_ind = i\n",
    "        \n",
    "        for j in range(i+1, len(nums), 1):\n",
    "            if nums[j] < nums[min_ind]:\n",
    "                min_ind = j\n",
    "                \n",
    "        if min_ind != i:\n",
    "            # swap elements and put the minimum at position i\n",
    "            nums[i],nums[min_ind] = nums[min_ind],nums[i]"
   ]
  },
  {
   "cell_type": "code",
   "execution_count": 4,
   "metadata": {},
   "outputs": [
    {
     "name": "stdout",
     "output_type": "stream",
     "text": [
      "Original array: [1, 4, 2, 5, 3, 8, 6, 9, 10, 7]\n",
      "Sorted array:   [1, 2, 3, 4, 5, 6, 7, 8, 9, 10]\n"
     ]
    }
   ],
   "source": [
    "nums = [1,4,2,5,3,8,6,9,10,7]\n",
    "print(\"Original array: \" + str(nums))\n",
    "\n",
    "selection_sort(nums)\n",
    "print(\"Sorted array:   \" + str(nums))"
   ]
  },
  {
   "cell_type": "markdown",
   "metadata": {},
   "source": [
    "### Insertion sort"
   ]
  },
  {
   "cell_type": "code",
   "execution_count": 5,
   "metadata": {},
   "outputs": [],
   "source": [
    "def insertion_sort(nums):\n",
    "    for i in range(len(nums)):\n",
    "        \n",
    "        # insert nums[i] at its correct position\n",
    "        j = i\n",
    "        \n",
    "        while j>0 and (nums[j-1] > nums[j]):\n",
    "            # swap nums[j-1] and nums[j]\n",
    "            nums[j-1],nums[j] = nums[j],nums[j-1]\n",
    "            \n",
    "            # decrease j and in order to check the previous numbers\n",
    "            j = j-1"
   ]
  },
  {
   "cell_type": "code",
   "execution_count": 6,
   "metadata": {},
   "outputs": [
    {
     "name": "stdout",
     "output_type": "stream",
     "text": [
      "Original array: [1, 4, 2, 5, 3, 8, 6, 9, 10, 7]\n",
      "Sorted array:   [1, 2, 3, 4, 5, 6, 7, 8, 9, 10]\n"
     ]
    }
   ],
   "source": [
    "nums = [1,4,2,5,3,8,6,9,10,7]\n",
    "print(\"Original array: \" + str(nums))\n",
    "\n",
    "insertion_sort(nums)\n",
    "print(\"Sorted array:   \" + str(nums))"
   ]
  },
  {
   "cell_type": "markdown",
   "metadata": {},
   "source": [
    "### Quicksort"
   ]
  },
  {
   "cell_type": "code",
   "execution_count": 7,
   "metadata": {},
   "outputs": [],
   "source": [
    "def quicksort(nums, low, high):\n",
    "    if low >= high:\n",
    "        return\n",
    "    \n",
    "    pivot_index = partition(nums, low, high)\n",
    "    quicksort(nums, low, pivot_index-1)\n",
    "    quicksort(nums, pivot_index+1, high)\n",
    "    \n",
    "def partition(nums, low, high):\n",
    "    \n",
    "    pivot = round((low+high)/2)\n",
    "    swap(nums, pivot, high) # temporarily move the pivot element to the end of the array\n",
    "    \n",
    "    i = low # index that will separate the numbers < and > than the pivot\n",
    "    \n",
    "    for j in range(low, high, 1):\n",
    "        if nums[j] <= nums[high]: # <- the pivot is now at the end of the array\n",
    "            swap(nums, j, i) # move the number num[j] at position i\n",
    "            i = i + 1        # and increase the index i\n",
    "            \n",
    "    # move back the pivot element after the numebrs that are lower than the pivot\n",
    "    swap(nums, high, i)\n",
    "    # now the pivot element is at position i; all element with indices < i are\n",
    "    # lower than the pivot, and all elements after i are higher than the pivot\n",
    "    \n",
    "    return i # index of the pivot\n",
    "\n",
    "def swap(nums, i, j):\n",
    "    nums[i],nums[j] = nums[j],nums[i]"
   ]
  },
  {
   "cell_type": "code",
   "execution_count": 8,
   "metadata": {},
   "outputs": [
    {
     "name": "stdout",
     "output_type": "stream",
     "text": [
      "Original array: [1, 4, 2, 5, 3, 8, 6, 9, 10, 7]\n",
      "Sorted array:   [1, 2, 3, 4, 5, 6, 7, 8, 9, 10]\n"
     ]
    }
   ],
   "source": [
    "nums = [1,4,2,5,3,8,6,9,10,7]\n",
    "print(\"Original array: \" + str(nums))\n",
    "\n",
    "quicksort(nums, 0, len(nums)-1)\n",
    "print(\"Sorted array:   \" + str(nums))"
   ]
  },
  {
   "cell_type": "markdown",
   "metadata": {},
   "source": [
    "### Merge sort"
   ]
  },
  {
   "cell_type": "code",
   "execution_count": 9,
   "metadata": {},
   "outputs": [],
   "source": [
    "def merge_sort(nums):\n",
    "    if len(nums) == 1:\n",
    "        return nums\n",
    "    \n",
    "    middle_index = round(len(nums)/2)\n",
    "    left_array   = merge_sort(nums[:middle_index])\n",
    "    right_array  = merge_sort(nums[middle_index:])\n",
    "    \n",
    "    # merge the sorted sub-arrays\n",
    "    i = j = k = 0\n",
    "    \n",
    "    while (i < len(left_array)) and (j < len(right_array)):\n",
    "        if left_array[i] < right_array[j]:\n",
    "            nums[k] = left_array[i]\n",
    "            i = i + 1\n",
    "        else:\n",
    "            nums[k] = right_array[j]\n",
    "            j = j + 1\n",
    "            \n",
    "        k = k + 1\n",
    "        \n",
    "    # Add the remaining elements\n",
    "    while i < len(left_array):\n",
    "        nums[k] = left_array[i]\n",
    "        i = i + 1\n",
    "        k = k + 1\n",
    "        \n",
    "    while j < len(right_array):\n",
    "        nums[k] = right_array[j]\n",
    "        j = j + 1\n",
    "        k = k + 1\n",
    "        \n",
    "    return nums"
   ]
  },
  {
   "cell_type": "code",
   "execution_count": 10,
   "metadata": {},
   "outputs": [
    {
     "name": "stdout",
     "output_type": "stream",
     "text": [
      "Original array: [1, 4, 2, 5, 3, 8, 6, 9, 10, 7]\n",
      "Sorted array:   [1, 2, 3, 4, 5, 6, 7, 8, 9, 10]\n"
     ]
    }
   ],
   "source": [
    "nums = [1,4,2,5,3,8,6,9,10,7]\n",
    "print(\"Original array: \" + str(nums))\n",
    "\n",
    "merge_sort(nums)\n",
    "print(\"Sorted array:   \" + str(nums))"
   ]
  },
  {
   "cell_type": "markdown",
   "metadata": {},
   "source": [
    "### Counting sort \n",
    "(works for integer values that are not very different)"
   ]
  },
  {
   "cell_type": "code",
   "execution_count": 11,
   "metadata": {},
   "outputs": [],
   "source": [
    "def counting_sort(nums):\n",
    "    min_value = min(nums)\n",
    "    max_value = max(nums)\n",
    "    # create a counter for all integers between min and max values of nums\n",
    "    count_array = [0 for _ in range(min_value, max_value+1, 1)]\n",
    "    for i in range(len(nums)):\n",
    "        count_array[nums[i]-min_value] += 1\n",
    "    \n",
    "    i = 0\n",
    "    for j in range(len(count_array)):\n",
    "        while count_array[j] > 0:\n",
    "            nums[i] = min_value + j\n",
    "            count_array[j] -= 1\n",
    "            i += 1"
   ]
  },
  {
   "cell_type": "code",
   "execution_count": 12,
   "metadata": {},
   "outputs": [
    {
     "name": "stdout",
     "output_type": "stream",
     "text": [
      "Original array: [1, 4, 2, 5, 3, 8, 6, 9, 10, 7]\n",
      "Sorted array:   [1, 2, 3, 4, 5, 6, 7, 8, 9, 10]\n"
     ]
    }
   ],
   "source": [
    "nums = [1,4,2,5,3,8,6,9,10,7]\n",
    "print(\"Original array: \" + str(nums))\n",
    "\n",
    "counting_sort(nums)\n",
    "print(\"Sorted array:   \" + str(nums))"
   ]
  },
  {
   "cell_type": "code",
   "execution_count": null,
   "metadata": {},
   "outputs": [],
   "source": []
  }
 ],
 "metadata": {
  "kernelspec": {
   "display_name": "Python 3",
   "language": "python",
   "name": "python3"
  },
  "language_info": {
   "codemirror_mode": {
    "name": "ipython",
    "version": 3
   },
   "file_extension": ".py",
   "mimetype": "text/x-python",
   "name": "python",
   "nbconvert_exporter": "python",
   "pygments_lexer": "ipython3",
   "version": "3.7.3"
  }
 },
 "nbformat": 4,
 "nbformat_minor": 2
}
