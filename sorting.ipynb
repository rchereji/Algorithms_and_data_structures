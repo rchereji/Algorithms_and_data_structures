{
 "cells": [
  {
   "cell_type": "markdown",
   "metadata": {},
   "source": [
    "## Sorting"
   ]
  },
  {
   "cell_type": "markdown",
   "metadata": {},
   "source": [
    "### Bubble sort"
   ]
  },
  {
   "cell_type": "code",
   "execution_count": 16,
   "metadata": {},
   "outputs": [],
   "source": [
    "def bubble_sort(arr):\n",
    "    for fillslot in range(len(arr)-1, 0, -1):\n",
    "        for i in range(fillslot):            \n",
    "            if arr[i]>arr[i+1]:                \n",
    "                arr[i],arr[i+1] = arr[i+1],arr[i]"
   ]
  },
  {
   "cell_type": "code",
   "execution_count": 17,
   "metadata": {},
   "outputs": [
    {
     "name": "stdout",
     "output_type": "stream",
     "text": [
      "Original array: [4, 2, 5, 3, 8, 6, 9, 10, 7, 1]\n",
      "Sorted array:   [1, 2, 3, 4, 5, 6, 7, 8, 9, 10]\n"
     ]
    }
   ],
   "source": [
    "arr = [4,2,5,3,8,6,9,10,7,1]\n",
    "print(\"Original array: \" + str(arr))\n",
    "\n",
    "bubble_sort(arr)\n",
    "print(\"Sorted array:   \" + str(arr))"
   ]
  },
  {
   "cell_type": "markdown",
   "metadata": {},
   "source": [
    "The previous implementation sorts the array from the right end (puts the maximum of the unsorted arrays to its correct position). An alternative implementation sorts the array from the left end:"
   ]
  },
  {
   "cell_type": "code",
   "execution_count": 18,
   "metadata": {},
   "outputs": [],
   "source": [
    "def bubble_sort_2(arr):\n",
    "    for fillslot in range(len(arr)-1):\n",
    "        for i in range(len(arr)-1, fillslot, -1):\n",
    "            if arr[i-1] > arr[i]:\n",
    "                arr[i-1],arr[i] = arr[i],arr[i-1]"
   ]
  },
  {
   "cell_type": "code",
   "execution_count": 19,
   "metadata": {},
   "outputs": [
    {
     "name": "stdout",
     "output_type": "stream",
     "text": [
      "Original array: [4, 2, 5, 3, 8, 6, 9, 10, 7, 1]\n",
      "Sorted array:   [1, 2, 3, 4, 5, 6, 7, 8, 9, 10]\n"
     ]
    }
   ],
   "source": [
    "arr = [4,2,5,3,8,6,9,10,7,1]\n",
    "print(\"Original array: \" + str(arr))\n",
    "\n",
    "bubble_sort_2(arr)\n",
    "print(\"Sorted array:   \" + str(arr))"
   ]
  },
  {
   "cell_type": "markdown",
   "metadata": {},
   "source": [
    "### Selection sort"
   ]
  },
  {
   "cell_type": "code",
   "execution_count": 22,
   "metadata": {},
   "outputs": [],
   "source": [
    "def selection_sort(arr):\n",
    "    for fillslot in range(len(arr)-1):\n",
    "        \n",
    "        # find minimum in the unsorted part of the array:\n",
    "        # arr[fillslot, fillslot+1, ..., end]\n",
    "        min_ind = fillslot\n",
    "        \n",
    "        for i in range(fillslot+1, len(arr), 1):\n",
    "            if arr[i] < arr[min_ind]:\n",
    "                min_ind = i\n",
    "                \n",
    "        if min_ind != fillslot:\n",
    "            # swap elements and put the minimum at position fillslot\n",
    "            arr[fillslot],arr[min_ind] = arr[min_ind],arr[fillslot]"
   ]
  },
  {
   "cell_type": "code",
   "execution_count": 23,
   "metadata": {},
   "outputs": [
    {
     "name": "stdout",
     "output_type": "stream",
     "text": [
      "Original array: [4, 2, 5, 3, 8, 6, 9, 10, 7, 1]\n",
      "Sorted array:   [1, 2, 3, 4, 5, 6, 7, 8, 9, 10]\n"
     ]
    }
   ],
   "source": [
    "arr = [4,2,5,3,8,6,9,10,7,1]\n",
    "print(\"Original array: \" + str(arr))\n",
    "\n",
    "selection_sort(arr)\n",
    "print(\"Sorted array:   \" + str(arr))"
   ]
  },
  {
   "cell_type": "markdown",
   "metadata": {},
   "source": [
    "Or similarly, moving the maxima to the right end of the array:"
   ]
  },
  {
   "cell_type": "code",
   "execution_count": 24,
   "metadata": {},
   "outputs": [],
   "source": [
    "def selection_sort_2(arr):\n",
    "    for fillslot in range(len(arr)-1, 0, -1):\n",
    "        max_ind = fillslot\n",
    "        for i in range(fillslot):\n",
    "            if arr[i] > arr[max_ind]:\n",
    "                max_ind = i\n",
    "                \n",
    "        if max_ind != fillslot:\n",
    "            # swap elements and put the maximum at position fillslot\n",
    "            arr[fillslot],arr[max_ind] = arr[max_ind],arr[fillslot]"
   ]
  },
  {
   "cell_type": "code",
   "execution_count": 25,
   "metadata": {},
   "outputs": [
    {
     "name": "stdout",
     "output_type": "stream",
     "text": [
      "Original array: [4, 2, 5, 3, 8, 6, 9, 10, 7, 1]\n",
      "Sorted array:   [1, 2, 3, 4, 5, 6, 7, 8, 9, 10]\n"
     ]
    }
   ],
   "source": [
    "arr = [4,2,5,3,8,6,9,10,7,1]\n",
    "print(\"Original array: \" + str(arr))\n",
    "\n",
    "selection_sort_2(arr)\n",
    "print(\"Sorted array:   \" + str(arr))"
   ]
  },
  {
   "cell_type": "markdown",
   "metadata": {},
   "source": [
    "### Insertion sort"
   ]
  },
  {
   "cell_type": "code",
   "execution_count": 28,
   "metadata": {},
   "outputs": [],
   "source": [
    "def insertion_sort(arr):\n",
    "    # the first element is sorted, sort the rest of the elements\n",
    "    for i in range(1, len(arr)):\n",
    "        \n",
    "        element_to_shift = arr[i]\n",
    "        current_pos = i\n",
    "        \n",
    "        while (current_pos > 0) and (arr[current_pos-1] > element_to_shift):\n",
    "            # shift arr[current_pos-1] to the right\n",
    "            arr[current_pos] = arr[current_pos-1]\n",
    "            \n",
    "            # decrease current_pos and in order to check the previous numbers\n",
    "            current_pos -= 1\n",
    "            \n",
    "        # insert value_to_sort at its correct position\n",
    "        arr[current_pos] = element_to_shift"
   ]
  },
  {
   "cell_type": "code",
   "execution_count": 29,
   "metadata": {},
   "outputs": [
    {
     "name": "stdout",
     "output_type": "stream",
     "text": [
      "Original array: [4, 2, 5, 3, 8, 6, 9, 10, 7, 1]\n",
      "Sorted array:   [1, 2, 3, 4, 5, 6, 7, 8, 9, 10]\n"
     ]
    }
   ],
   "source": [
    "arr = [4,2,5,3,8,6,9,10,7,1]\n",
    "print(\"Original array: \" + str(arr))\n",
    "\n",
    "insertion_sort(arr)\n",
    "print(\"Sorted array:   \" + str(arr))"
   ]
  },
  {
   "cell_type": "markdown",
   "metadata": {},
   "source": [
    "### Shell sort"
   ]
  },
  {
   "cell_type": "code",
   "execution_count": 30,
   "metadata": {},
   "outputs": [],
   "source": [
    "def shell_sort(arr):\n",
    "    gap = len(arr) // 2\n",
    "    \n",
    "    while gap > 0:\n",
    "        for start in range(gap):\n",
    "            gap_insertion_sort(arr, start, gap)    \n",
    "        gap = gap // 2\n",
    "        \n",
    "\n",
    "def gap_insertion_sort(arr, start, gap):\n",
    "    '''\n",
    "    Insertion sort of the elements arr[start], arr[start+gap], arr[start+2*gap], ...\n",
    "    '''\n",
    "    for i in range(start+gap, len(arr), gap):\n",
    "        \n",
    "        element_to_shift = arr[i]\n",
    "        current_pos = i\n",
    "        \n",
    "        while (current_pos >= gap) and (arr[current_pos-gap] > element_to_shift):\n",
    "            # shift arr[current_pos-1] to the right\n",
    "            arr[current_pos] = arr[current_pos-gap]\n",
    "            \n",
    "            # decrease current_pos and in order to check the previous numbers\n",
    "            current_pos -= gap\n",
    "            \n",
    "        # insert value_to_sort at its correct position\n",
    "        arr[current_pos] = element_to_shift"
   ]
  },
  {
   "cell_type": "code",
   "execution_count": 31,
   "metadata": {},
   "outputs": [
    {
     "name": "stdout",
     "output_type": "stream",
     "text": [
      "Original array: [4, 2, 5, 3, 8, 6, 9, 10, 7, 1]\n",
      "Sorted array:   [1, 2, 3, 4, 5, 6, 7, 8, 9, 10]\n"
     ]
    }
   ],
   "source": [
    "arr = [4,2,5,3,8,6,9,10,7,1]\n",
    "print(\"Original array: \" + str(arr))\n",
    "\n",
    "shell_sort(arr)\n",
    "print(\"Sorted array:   \" + str(arr))"
   ]
  },
  {
   "cell_type": "markdown",
   "metadata": {},
   "source": [
    "### Quicksort"
   ]
  },
  {
   "cell_type": "code",
   "execution_count": 7,
   "metadata": {},
   "outputs": [],
   "source": [
    "def quicksort(arr, low, high):\n",
    "    if low >= high:\n",
    "        return\n",
    "    \n",
    "    pivot_index = partition(arr, low, high)\n",
    "    quicksort(arr, low, pivot_index-1)\n",
    "    quicksort(arr, pivot_index+1, high)\n",
    "    \n",
    "def partition(arr, low, high):\n",
    "    \n",
    "    pivot = (low+high) // 2\n",
    "    swap(arr, pivot, high) # temporarily move the pivot element to the end of the array\n",
    "    \n",
    "    i = low # index that will separate the numbers < and > than the pivot\n",
    "    \n",
    "    for j in range(low, high, 1):\n",
    "        if arr[j] <= arr[high]: # <- the pivot is now at the end of the array\n",
    "            swap(arr, j, i) # move the number num[j] at position i\n",
    "            i = i + 1        # and increase the index i\n",
    "            \n",
    "    # move back the pivot element after the numebrs that are lower than the pivot\n",
    "    swap(arr, high, i)\n",
    "    # now the pivot element is at position i; all element with indices < i are\n",
    "    # lower than the pivot, and all elements after i are higher than the pivot\n",
    "    \n",
    "    return i # index of the pivot\n",
    "\n",
    "def swap(arr, i, j):\n",
    "    arr[i],arr[j] = arr[j],arr[i]"
   ]
  },
  {
   "cell_type": "code",
   "execution_count": 8,
   "metadata": {},
   "outputs": [
    {
     "name": "stdout",
     "output_type": "stream",
     "text": [
      "Original array: [1, 4, 2, 5, 3, 8, 6, 9, 10, 7]\n",
      "Sorted array:   [1, 2, 3, 4, 5, 6, 7, 8, 9, 10]\n"
     ]
    }
   ],
   "source": [
    "arr = [4,2,5,3,8,6,9,10,7,1]\n",
    "print(\"Original array: \" + str(arr))\n",
    "\n",
    "quicksort(arr, 0, len(arr)-1)\n",
    "print(\"Sorted array:   \" + str(arr))"
   ]
  },
  {
   "cell_type": "markdown",
   "metadata": {},
   "source": [
    "### Merge sort"
   ]
  },
  {
   "cell_type": "code",
   "execution_count": 32,
   "metadata": {},
   "outputs": [],
   "source": [
    "def merge_sort(arr):\n",
    "    if len(arr) == 1:\n",
    "        return arr\n",
    "    \n",
    "    middle_index = len(arr) // 2\n",
    "    left_array   = merge_sort(arr[:middle_index])\n",
    "    right_array  = merge_sort(arr[middle_index:])\n",
    "    \n",
    "    # merge the sorted sub-arrays\n",
    "    i = j = k = 0\n",
    "    \n",
    "    while (i < len(left_array)) and (j < len(right_array)):\n",
    "        if left_array[i] < right_array[j]:\n",
    "            arr[k] = left_array[i]\n",
    "            i = i + 1\n",
    "        else:\n",
    "            arr[k] = right_array[j]\n",
    "            j = j + 1\n",
    "            \n",
    "        k = k + 1\n",
    "        \n",
    "    # add the remaining elements\n",
    "    while i < len(left_array):\n",
    "        arr[k] = left_array[i]\n",
    "        i = i + 1\n",
    "        k = k + 1\n",
    "        \n",
    "    while j < len(right_array):\n",
    "        arr[k] = right_array[j]\n",
    "        j = j + 1\n",
    "        k = k + 1\n",
    "        \n",
    "    return arr"
   ]
  },
  {
   "cell_type": "code",
   "execution_count": 33,
   "metadata": {},
   "outputs": [
    {
     "name": "stdout",
     "output_type": "stream",
     "text": [
      "Original array: [4, 2, 5, 3, 8, 6, 9, 10, 7, 1]\n",
      "Sorted array:   [1, 2, 3, 4, 5, 6, 7, 8, 9, 10]\n"
     ]
    }
   ],
   "source": [
    "arr = [4,2,5,3,8,6,9,10,7,1]\n",
    "print(\"Original array: \" + str(arr))\n",
    "\n",
    "merge_sort(arr)\n",
    "print(\"Sorted array:   \" + str(arr))"
   ]
  },
  {
   "cell_type": "markdown",
   "metadata": {},
   "source": [
    "### Counting sort \n",
    "(works for integer values that are not very different)"
   ]
  },
  {
   "cell_type": "code",
   "execution_count": 11,
   "metadata": {},
   "outputs": [],
   "source": [
    "def counting_sort(arr):\n",
    "    min_value = min(arr)\n",
    "    max_value = max(arr)\n",
    "    # create a counter for all integers between min and max values of arr\n",
    "    count_array = [0 for _ in range(min_value, max_value+1, 1)]\n",
    "    for i in range(len(arr)):\n",
    "        count_array[arr[i]-min_value] += 1\n",
    "    \n",
    "    i = 0\n",
    "    for j in range(len(count_array)):\n",
    "        while count_array[j] > 0:\n",
    "            arr[i] = min_value + j\n",
    "            count_array[j] -= 1\n",
    "            i += 1"
   ]
  },
  {
   "cell_type": "code",
   "execution_count": 12,
   "metadata": {},
   "outputs": [
    {
     "name": "stdout",
     "output_type": "stream",
     "text": [
      "Original array: [1, 4, 2, 5, 3, 8, 6, 9, 10, 7]\n",
      "Sorted array:   [1, 2, 3, 4, 5, 6, 7, 8, 9, 10]\n"
     ]
    }
   ],
   "source": [
    "arr = [4,2,5,3,8,6,9,10,7,1]\n",
    "print(\"Original array: \" + str(arr))\n",
    "\n",
    "counting_sort(arr)\n",
    "print(\"Sorted array:   \" + str(arr))"
   ]
  },
  {
   "cell_type": "code",
   "execution_count": null,
   "metadata": {},
   "outputs": [],
   "source": []
  }
 ],
 "metadata": {
  "kernelspec": {
   "display_name": "Python 3",
   "language": "python",
   "name": "python3"
  },
  "language_info": {
   "codemirror_mode": {
    "name": "ipython",
    "version": 3
   },
   "file_extension": ".py",
   "mimetype": "text/x-python",
   "name": "python",
   "nbconvert_exporter": "python",
   "pygments_lexer": "ipython3",
   "version": "3.7.3"
  }
 },
 "nbformat": 4,
 "nbformat_minor": 2
}
