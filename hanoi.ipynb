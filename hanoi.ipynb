{
 "cells": [
  {
   "cell_type": "markdown",
   "metadata": {},
   "source": [
    "### Towers of Hanoi\n",
    "Towers of Hanoi consists of three pegs or towers with n disks placed one over the other.  \n",
    "The objective of the puzzle is to move the stack to another peg following these simple rules:\n",
    "1. Only one disk can be moved at a time.\n",
    "2. No disk can be placed on top of the smaller disk."
   ]
  },
  {
   "cell_type": "code",
   "execution_count": 1,
   "metadata": {},
   "outputs": [],
   "source": [
    "def hanoi(n, source, target, aux):\n",
    "    # Base case: the smallest disk, disk 1, has to be moved to the target peg\n",
    "    if n == 1:\n",
    "        print('Move disk 1 from {} to {}'.format(source, target))\n",
    "        return\n",
    "    \n",
    "    # Otherwise:\n",
    "    # 1) we need to move n-1 disks from source to aux, \n",
    "    #    using target as the auxiliary peg\n",
    "    hanoi(n-1, source, aux, target)\n",
    "    \n",
    "    # 2) move the largest disk, n, from source to target\n",
    "    print('Move disk {} from {} to {}'.format(n, source, target))\n",
    "    \n",
    "    # 3) move the remaining n-1 disks from aux to target, \n",
    "    #    using source as the auxiliary peg\n",
    "    hanoi(n-1, aux, target, source)"
   ]
  },
  {
   "cell_type": "code",
   "execution_count": 2,
   "metadata": {},
   "outputs": [
    {
     "name": "stdout",
     "output_type": "stream",
     "text": [
      "Move disk 1 from A to C\n",
      "Move disk 2 from A to B\n",
      "Move disk 1 from C to B\n",
      "Move disk 3 from A to C\n",
      "Move disk 1 from B to A\n",
      "Move disk 2 from B to C\n",
      "Move disk 1 from A to C\n"
     ]
    }
   ],
   "source": [
    "hanoi(3, 'A', 'C', 'B')"
   ]
  },
  {
   "cell_type": "code",
   "execution_count": 3,
   "metadata": {},
   "outputs": [
    {
     "name": "stdout",
     "output_type": "stream",
     "text": [
      "Move disk 1 from A to B\n",
      "Move disk 2 from A to C\n",
      "Move disk 1 from B to C\n",
      "Move disk 3 from A to B\n",
      "Move disk 1 from C to A\n",
      "Move disk 2 from C to B\n",
      "Move disk 1 from A to B\n",
      "Move disk 4 from A to C\n",
      "Move disk 1 from B to C\n",
      "Move disk 2 from B to A\n",
      "Move disk 1 from C to A\n",
      "Move disk 3 from B to C\n",
      "Move disk 1 from A to B\n",
      "Move disk 2 from A to C\n",
      "Move disk 1 from B to C\n"
     ]
    }
   ],
   "source": [
    "hanoi(4, 'A', 'C', 'B')"
   ]
  },
  {
   "cell_type": "code",
   "execution_count": null,
   "metadata": {},
   "outputs": [],
   "source": []
  }
 ],
 "metadata": {
  "kernelspec": {
   "display_name": "Python 3",
   "language": "python",
   "name": "python3"
  },
  "language_info": {
   "codemirror_mode": {
    "name": "ipython",
    "version": 3
   },
   "file_extension": ".py",
   "mimetype": "text/x-python",
   "name": "python",
   "nbconvert_exporter": "python",
   "pygments_lexer": "ipython3",
   "version": "3.7.3"
  }
 },
 "nbformat": 4,
 "nbformat_minor": 2
}
