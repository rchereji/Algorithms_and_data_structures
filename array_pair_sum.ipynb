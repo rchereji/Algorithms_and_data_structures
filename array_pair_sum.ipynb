{
 "cells": [
  {
   "cell_type": "markdown",
   "metadata": {},
   "source": [
    "### Array pair sum\n",
    "Given an integer array, output all the unique pairs that sum up to a specific value k."
   ]
  },
  {
   "cell_type": "code",
   "execution_count": 1,
   "metadata": {},
   "outputs": [],
   "source": [
    "def find_pairs(nums, k):\n",
    "    # Create a set that contains the previous numbers in the array \n",
    "    # (for search speed - O(1)) \n",
    "    prev_numbers = set()\n",
    "    # Use a set to keep the pairs with sum k\n",
    "    unique_pairs = set()\n",
    "    \n",
    "    for num in nums:\n",
    "        if k-num in prev_numbers:\n",
    "            unique_pairs.add((k-num, num))\n",
    "        \n",
    "        prev_numbers.add(num)\n",
    "    \n",
    "    if len(unique_pairs) > 0:\n",
    "        print('{} unique pairs:'.format(len(unique_pairs)))\n",
    "        print('\\n'.join(map(str, list(unique_pairs)))) # a trick for a nice display \n",
    "    else:\n",
    "        print('No pair of elements with sum {} was found!'.format(k))"
   ]
  },
  {
   "cell_type": "code",
   "execution_count": 2,
   "metadata": {},
   "outputs": [
    {
     "name": "stdout",
     "output_type": "stream",
     "text": [
      "2 unique pairs:\n",
      "(1, 3)\n",
      "(2, 2)\n"
     ]
    }
   ],
   "source": [
    "find_pairs([1,3,2,2], 4)"
   ]
  },
  {
   "cell_type": "code",
   "execution_count": 3,
   "metadata": {},
   "outputs": [
    {
     "name": "stdout",
     "output_type": "stream",
     "text": [
      "1 unique pairs:\n",
      "(3, 2)\n"
     ]
    }
   ],
   "source": [
    "find_pairs([1,3,2,2], 5)"
   ]
  },
  {
   "cell_type": "code",
   "execution_count": 4,
   "metadata": {},
   "outputs": [
    {
     "name": "stdout",
     "output_type": "stream",
     "text": [
      "No pair of elements with sum 7 was found!\n"
     ]
    }
   ],
   "source": [
    "find_pairs([1,3,2,2], 7)"
   ]
  },
  {
   "cell_type": "code",
   "execution_count": null,
   "metadata": {},
   "outputs": [],
   "source": []
  }
 ],
 "metadata": {
  "kernelspec": {
   "display_name": "Python 3",
   "language": "python",
   "name": "python3"
  },
  "language_info": {
   "codemirror_mode": {
    "name": "ipython",
    "version": 3
   },
   "file_extension": ".py",
   "mimetype": "text/x-python",
   "name": "python",
   "nbconvert_exporter": "python",
   "pygments_lexer": "ipython3",
   "version": "3.7.3"
  }
 },
 "nbformat": 4,
 "nbformat_minor": 2
}
