{
 "cells": [
  {
   "cell_type": "markdown",
   "metadata": {},
   "source": [
    "### Array rotation\n",
    "Given two lists, check whether list2 is a rotation of list1. Assume no duplicates in the two lists."
   ]
  },
  {
   "cell_type": "code",
   "execution_count": 1,
   "metadata": {},
   "outputs": [],
   "source": [
    "def rotation(list1, list2):\n",
    "    \n",
    "    if len(list1) != len(list2):\n",
    "        return False\n",
    "    \n",
    "    # Step1: identify the first element of list1 in list2\n",
    "    shift = None\n",
    "    for i,num in enumerate(list2):\n",
    "        if num == list1[0]:\n",
    "            shift = i\n",
    "            break\n",
    "    \n",
    "    if shift is None:\n",
    "        return False\n",
    "    \n",
    "    length = len(list1)\n",
    "    for i in range(length):\n",
    "        if list1[i] != list2[(i+shift) % length]:\n",
    "            return False\n",
    "    \n",
    "    return True"
   ]
  },
  {
   "cell_type": "code",
   "execution_count": 2,
   "metadata": {},
   "outputs": [
    {
     "data": {
      "text/plain": [
       "True"
      ]
     },
     "execution_count": 2,
     "metadata": {},
     "output_type": "execute_result"
    }
   ],
   "source": [
    "rotation([1, 2, 3, 4, 5], [3, 4, 5, 1, 2])"
   ]
  },
  {
   "cell_type": "code",
   "execution_count": 3,
   "metadata": {},
   "outputs": [
    {
     "data": {
      "text/plain": [
       "False"
      ]
     },
     "execution_count": 3,
     "metadata": {},
     "output_type": "execute_result"
    }
   ],
   "source": [
    "rotation([1, 2, 3, 4, 5], [300, 400, 500, 1, 2])"
   ]
  },
  {
   "cell_type": "code",
   "execution_count": null,
   "metadata": {},
   "outputs": [],
   "source": []
  }
 ],
 "metadata": {
  "kernelspec": {
   "display_name": "Python 3",
   "language": "python",
   "name": "python3"
  },
  "language_info": {
   "codemirror_mode": {
    "name": "ipython",
    "version": 3
   },
   "file_extension": ".py",
   "mimetype": "text/x-python",
   "name": "python",
   "nbconvert_exporter": "python",
   "pygments_lexer": "ipython3",
   "version": "3.7.3"
  }
 },
 "nbformat": 4,
 "nbformat_minor": 2
}
