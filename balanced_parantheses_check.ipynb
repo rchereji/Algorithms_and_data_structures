{
 "cells": [
  {
   "cell_type": "markdown",
   "metadata": {},
   "source": [
    "### Balanced parantheses check\n",
    "Given a string of opening and closing parantheses, check whether it is balanced. We have 3 types of pantheses: (,); [,]; {,}."
   ]
  },
  {
   "cell_type": "markdown",
   "metadata": {},
   "source": [
    "I'll use a stack to keep track of the order of the parantheses. Whenever I open some parantheses, I will push it to the stack, and whenever I close some parantheses I will pop the last opening parantheses, if the type coincides."
   ]
  },
  {
   "cell_type": "code",
   "execution_count": 1,
   "metadata": {},
   "outputs": [],
   "source": [
    "# Create a class for the stack.\n",
    "class Stack:\n",
    "    def __init__(self):\n",
    "        self.data = []\n",
    "\n",
    "    def isEmpty(self):\n",
    "        return self.data == []\n",
    "        \n",
    "    # push method\n",
    "    def push(self, newData):\n",
    "        self.data.append(newData)\n",
    "        \n",
    "    # pop method\n",
    "    def pop(self):\n",
    "        return self.data.pop()\n",
    "        \n",
    "    # peek method   \n",
    "    def peek(self):\n",
    "        return self.data[-1]"
   ]
  },
  {
   "cell_type": "code",
   "execution_count": 2,
   "metadata": {},
   "outputs": [],
   "source": [
    "def balance_check(string):\n",
    "    \n",
    "    if len(string)%2 != 0:\n",
    "        return False\n",
    "    \n",
    "    S = Stack()\n",
    "    \n",
    "    parantheses = {')':'(', ']':'[', '}':'{'}\n",
    "    \n",
    "    for symbol in string:\n",
    "        if symbol in {'(', '[', '{'}:\n",
    "            S.push(symbol)\n",
    "        elif symbol in {')', ']', '}'}:\n",
    "            if S.peek() == parantheses[symbol]:\n",
    "                S.pop()\n",
    "            else:\n",
    "                return False\n",
    "    return S.isEmpty()"
   ]
  },
  {
   "cell_type": "code",
   "execution_count": 3,
   "metadata": {},
   "outputs": [
    {
     "data": {
      "text/plain": [
       "True"
      ]
     },
     "execution_count": 3,
     "metadata": {},
     "output_type": "execute_result"
    }
   ],
   "source": [
    "balance_check('[]')"
   ]
  },
  {
   "cell_type": "code",
   "execution_count": 4,
   "metadata": {},
   "outputs": [
    {
     "data": {
      "text/plain": [
       "True"
      ]
     },
     "execution_count": 4,
     "metadata": {},
     "output_type": "execute_result"
    }
   ],
   "source": [
    "balance_check('()[]')"
   ]
  },
  {
   "cell_type": "code",
   "execution_count": 5,
   "metadata": {},
   "outputs": [
    {
     "data": {
      "text/plain": [
       "False"
      ]
     },
     "execution_count": 5,
     "metadata": {},
     "output_type": "execute_result"
    }
   ],
   "source": [
    "balance_check('([)]')"
   ]
  },
  {
   "cell_type": "code",
   "execution_count": 6,
   "metadata": {},
   "outputs": [
    {
     "data": {
      "text/plain": [
       "True"
      ]
     },
     "execution_count": 6,
     "metadata": {},
     "output_type": "execute_result"
    }
   ],
   "source": [
    "balance_check('{()[()]{[()]}}')"
   ]
  },
  {
   "cell_type": "code",
   "execution_count": null,
   "metadata": {},
   "outputs": [],
   "source": []
  }
 ],
 "metadata": {
  "kernelspec": {
   "display_name": "Python 3",
   "language": "python",
   "name": "python3"
  },
  "language_info": {
   "codemirror_mode": {
    "name": "ipython",
    "version": 3
   },
   "file_extension": ".py",
   "mimetype": "text/x-python",
   "name": "python",
   "nbconvert_exporter": "python",
   "pygments_lexer": "ipython3",
   "version": "3.7.3"
  }
 },
 "nbformat": 4,
 "nbformat_minor": 2
}
