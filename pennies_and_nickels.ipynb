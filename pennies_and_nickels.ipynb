{
 "cells": [
  {
   "cell_type": "markdown",
   "metadata": {},
   "source": [
    "### Pennies and nickels\n",
    "Compute the number of ways it is possible to lay pennies (1c) and nickels (5c) in a line such that they sum to a dollar."
   ]
  },
  {
   "cell_type": "markdown",
   "metadata": {},
   "source": [
    "Tha last coin can be either a penny (1c) or a nickel (5c). So, the number of ways to lay down 100c, $N(100)$, is equal to the number of ways to lay down 99c (followed by a penny), $N(99)$, plus the number of ways to lay down 95c (followed by a nickel), $N(95)$.  \n",
    "In general, the recursion relation is:  \n",
    "$N(S) = N(S-1) + N(S-5)$.\n",
    "\n",
    "To compute this efficiently, we use dynamic programming:"
   ]
  },
  {
   "cell_type": "code",
   "execution_count": 1,
   "metadata": {},
   "outputs": [],
   "source": [
    "def number_coins(S, N={0:1, 1:1, 2:1, 3:1, 4:1}):\n",
    "    if S < 0:\n",
    "        return 0\n",
    "    \n",
    "    if S in N:\n",
    "        return N[S]\n",
    "    else:\n",
    "        N[S] = number_coins(S-1, N) + number_coins(S-5, N)\n",
    "        return N[S]"
   ]
  },
  {
   "cell_type": "code",
   "execution_count": 2,
   "metadata": {},
   "outputs": [
    {
     "data": {
      "text/plain": [
       "823322219501"
      ]
     },
     "execution_count": 2,
     "metadata": {},
     "output_type": "execute_result"
    }
   ],
   "source": [
    "number_coins(100)"
   ]
  },
  {
   "cell_type": "code",
   "execution_count": 3,
   "metadata": {},
   "outputs": [],
   "source": [
    "# Bottom-up approach\n",
    "def number_coins_2(S):\n",
    "    N={0:1, 1:1, 2:1, 3:1, 4:1}\n",
    "    \n",
    "    if S in N:\n",
    "        return N[S]\n",
    "    else:\n",
    "        for i in range(5, S+1):\n",
    "            N[i] = N[i-1] + N[i-5]\n",
    "        return N[S]"
   ]
  },
  {
   "cell_type": "code",
   "execution_count": 4,
   "metadata": {},
   "outputs": [
    {
     "data": {
      "text/plain": [
       "823322219501"
      ]
     },
     "execution_count": 4,
     "metadata": {},
     "output_type": "execute_result"
    }
   ],
   "source": [
    "number_coins_2(100)"
   ]
  },
  {
   "cell_type": "code",
   "execution_count": 5,
   "metadata": {},
   "outputs": [
    {
     "name": "stdout",
     "output_type": "stream",
     "text": [
      "120 ns ± 2.01 ns per loop (mean ± std. dev. of 7 runs, 10000000 loops each)\n"
     ]
    }
   ],
   "source": [
    "%timeit number_coins(100)"
   ]
  },
  {
   "cell_type": "code",
   "execution_count": 6,
   "metadata": {},
   "outputs": [
    {
     "name": "stdout",
     "output_type": "stream",
     "text": [
      "12.8 µs ± 183 ns per loop (mean ± std. dev. of 7 runs, 100000 loops each)\n"
     ]
    }
   ],
   "source": [
    "%timeit number_coins_2(100)"
   ]
  },
  {
   "cell_type": "markdown",
   "metadata": {},
   "source": [
    "The for loop in `number_coins_2` made this function 100 times slower compared to `number_coins`."
   ]
  },
  {
   "cell_type": "code",
   "execution_count": null,
   "metadata": {},
   "outputs": [],
   "source": []
  }
 ],
 "metadata": {
  "kernelspec": {
   "display_name": "Python 3",
   "language": "python",
   "name": "python3"
  },
  "language_info": {
   "codemirror_mode": {
    "name": "ipython",
    "version": 3
   },
   "file_extension": ".py",
   "mimetype": "text/x-python",
   "name": "python",
   "nbconvert_exporter": "python",
   "pygments_lexer": "ipython3",
   "version": "3.7.3"
  }
 },
 "nbformat": 4,
 "nbformat_minor": 2
}
