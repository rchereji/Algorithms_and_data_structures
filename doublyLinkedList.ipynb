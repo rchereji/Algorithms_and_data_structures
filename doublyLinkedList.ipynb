{
 "cells": [
  {
   "cell_type": "markdown",
   "metadata": {},
   "source": [
    "## Doubly-linked list"
   ]
  },
  {
   "cell_type": "code",
   "execution_count": 1,
   "metadata": {},
   "outputs": [],
   "source": [
    "# Create a class for a node in the doubly linked list\n",
    "# Each node should contain some data and 2 pointers to the neighboring nodes\n",
    "class Node:\n",
    "    def __init__(self, data):\n",
    "        self.data     = data\n",
    "        self.nextNode = None\n",
    "        self.prevNode = None"
   ]
  },
  {
   "cell_type": "code",
   "execution_count": 2,
   "metadata": {},
   "outputs": [],
   "source": [
    "# Create a class for the doubly-linked list.\n",
    "# The elements of this list will be Node elements\n",
    "class DoublyLinkedList:\n",
    "    def __init__(self):\n",
    "        self.head = None\n",
    "        self.tail = None\n",
    "        self.size = 0\n",
    "        \n",
    "    # Create a method to insert a node at the start    \n",
    "    def insertStart(self, data):\n",
    "        newNode = Node(data)\n",
    "        self.size += 1\n",
    "        \n",
    "        if self.head is None:\n",
    "            self.head = newNode\n",
    "            self.tail = newNode\n",
    "        else:\n",
    "            newNode.nextNode   = self.head\n",
    "            self.head.prevNode = newNode\n",
    "            self.head          = newNode\n",
    "    \n",
    "    # Create a method to insert a node at the end of the list\n",
    "    def insertEnd(self, data):\n",
    "        # Create a new node\n",
    "        newNode = Node(data)\n",
    "        self.size += 1\n",
    "        \n",
    "        if self.tail is None:\n",
    "            self.tail = newNode\n",
    "            self.head = newNode\n",
    "        else:\n",
    "            newNode.prevNode   = self.tail\n",
    "            self.tail.nextNode = newNode\n",
    "            self.tail          = newNode\n",
    "        \n",
    "    # Method to remove a node, specified by its value    \n",
    "    def remove(self, data):\n",
    "        if self.head is None:\n",
    "            return\n",
    "        else:\n",
    "            currentNode = self.head\n",
    "            \n",
    "            while currentNode is not None:\n",
    "                # If the node is found, then remove it\n",
    "                if currentNode.data == data:\n",
    "                    # If the head needs to be removed\n",
    "                    if (currentNode == self.head):\n",
    "                        self.head = currentNode.nextNode\n",
    "                        if self.head is not None:\n",
    "                            self.head.prevNode = None\n",
    "                        else:       # If the list became empty\n",
    "                            self.tail = None\n",
    "                        \n",
    "                    # If the tail needs to be removed\n",
    "                    elif (currentNode == self.tail):\n",
    "                        self.tail = currentNode.prevNode\n",
    "                        if self.tail is not None:\n",
    "                            self.tail.nextNode = None\n",
    "                        else:       # If the list became empty\n",
    "                            self.head = None\n",
    "                        \n",
    "                    # If another node needs to be removed\n",
    "                    else:\n",
    "                        currentNode.prevNode.nextNode = currentNode.nextNode\n",
    "                        currentNode.nextNode.prevNode = currentNode.prevNode\n",
    "                        \n",
    "                    self.size -= 1\n",
    "                    \n",
    "                    return\n",
    "                        \n",
    "                # If the current node is not the node to be removed\n",
    "                currentNode = currentNode.nextNode\n",
    "        \n",
    "    # Method to traverse the doubly-linked list in the forward direction\n",
    "    def traverseForwardList(self):\n",
    "        if self.head is None:\n",
    "            print(\"Empty list!\")\n",
    "        else:\n",
    "            print(\"Forward traverse:\", end =\" \")\n",
    "            currentNode = self.head\n",
    "            while currentNode is not None:\n",
    "                print(currentNode.data, end =\" \")\n",
    "                currentNode = currentNode.nextNode\n",
    "            print(\"\")\n",
    "            \n",
    "    # Method to traverse the doubly-linked list in the reverse direction\n",
    "    def traverseReverseList(self):\n",
    "        if self.tail is None:\n",
    "            print(\"Empty list!\")\n",
    "        else:\n",
    "            print(\"Reverse traverse:\", end =\" \")\n",
    "            currentNode = self.tail\n",
    "            while currentNode is not None:\n",
    "                print(currentNode.data, end =\" \")\n",
    "                currentNode = currentNode.prevNode\n",
    "            print(\"\")"
   ]
  },
  {
   "cell_type": "code",
   "execution_count": 3,
   "metadata": {},
   "outputs": [],
   "source": [
    "# Create a simply-linked list\n",
    "L = DoublyLinkedList()\n",
    "\n",
    "# Add some data\n",
    "L.insertStart(3)\n",
    "L.insertStart(2)\n",
    "L.insertStart(1)\n",
    "L.insertEnd(4)\n",
    "L.insertEnd(5)"
   ]
  },
  {
   "cell_type": "code",
   "execution_count": 4,
   "metadata": {},
   "outputs": [
    {
     "data": {
      "text/plain": [
       "5"
      ]
     },
     "execution_count": 4,
     "metadata": {},
     "output_type": "execute_result"
    }
   ],
   "source": [
    "# Get the number of elements\n",
    "L.size"
   ]
  },
  {
   "cell_type": "code",
   "execution_count": 5,
   "metadata": {},
   "outputs": [
    {
     "name": "stdout",
     "output_type": "stream",
     "text": [
      "Forward traverse: 1 2 3 4 5 \n",
      "Reverse traverse: 5 4 3 2 1 \n"
     ]
    }
   ],
   "source": [
    "# Traverse the list and print its elements\n",
    "L.traverseForwardList()\n",
    "L.traverseReverseList()"
   ]
  },
  {
   "cell_type": "code",
   "execution_count": 6,
   "metadata": {},
   "outputs": [
    {
     "name": "stdout",
     "output_type": "stream",
     "text": [
      "Forward traverse: 1 3 5 \n",
      "Reverse traverse: 5 3 1 \n"
     ]
    }
   ],
   "source": [
    "# Remove some elements\n",
    "L.remove(2)\n",
    "L.remove(4)\n",
    "\n",
    "L.traverseForwardList()\n",
    "L.traverseReverseList()"
   ]
  },
  {
   "cell_type": "code",
   "execution_count": 7,
   "metadata": {},
   "outputs": [
    {
     "name": "stdout",
     "output_type": "stream",
     "text": [
      "Empty list!\n",
      "Empty list!\n"
     ]
    }
   ],
   "source": [
    "L.remove(1)\n",
    "L.remove(3)\n",
    "L.remove(5)\n",
    "\n",
    "L.traverseForwardList()\n",
    "L.traverseReverseList()"
   ]
  },
  {
   "cell_type": "code",
   "execution_count": null,
   "metadata": {},
   "outputs": [],
   "source": []
  }
 ],
 "metadata": {
  "kernelspec": {
   "display_name": "Python 3",
   "language": "python",
   "name": "python3"
  },
  "language_info": {
   "codemirror_mode": {
    "name": "ipython",
    "version": 3
   },
   "file_extension": ".py",
   "mimetype": "text/x-python",
   "name": "python",
   "nbconvert_exporter": "python",
   "pygments_lexer": "ipython3",
   "version": "3.7.3"
  }
 },
 "nbformat": 4,
 "nbformat_minor": 2
}
